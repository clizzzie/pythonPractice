{
 "cells": [
  {
   "cell_type": "markdown",
   "id": "e88cdacf",
   "metadata": {},
   "source": [
    "Goal: create a class function that takes the inputs of Gauss coefficients degree and order and reogranizes that file to make it plottable.\n",
    "\n",
    "# Test Driven Development:\n",
    "* Red\n",
    "    1. Write a test\n",
    "        * Time incruments are spaced equally\n",
    "        * Same number of coefficients across all time\n",
    "        * Data information not included\n",
    "        * The correct number of l and m coefficients at each interval\n",
    "        \n",
    "2. Test fails\n",
    "* Green\n",
    "3. Write code to make test pass\n",
    "4. Code passes test\n",
    "* Refactor\n",
    "5. Workable code, how to improve?\n",
    "6. Clean code\n"
   ]
  },
  {
   "cell_type": "markdown",
   "id": "195637f4",
   "metadata": {},
   "source": [
    "Import libraries and load data\n",
    "   \n",
    "ggf100k_coeffs: Giant Gauss Function 100 thousand years Gauss Coefficients 27 coefficients for every year\n",
    "\n",
    "5 lines of text is blocked for one year of coefficients"
   ]
  },
  {
   "cell_type": "code",
   "execution_count": 18,
   "id": "e56b09de",
   "metadata": {},
   "outputs": [
    {
     "name": "stdout",
     "output_type": "stream",
     "text": [
      "-98050 -.161170E+05 0.141559E+04 0.208931E+04 -.225235E+04 0.310805E+04 0.987037E+03 -.581057E+03 0.952746E+02 0.180628E+03 0.230558E+02 -.109954E+04 -.172753E+04 0.522404E+03 -.253436E+03 -.230947E+03 0.430804E+03 0.339349E+03 -.134043E+03 -.747131E+03 -.155073E+03 0.387748E+02 0.428831E+03 0.284847E+03 -.368793E+02\n",
      "\n",
      "new line\n",
      " 0.961273E+02 0.147821E+03 -.433848E+02 -.136859E+03 0.136449E+03 -.335678E+02 0.489901E+02 0.488958E+02 0.205703E+03 -.169163E+01 0.433787E+02 0.354277E+02 0.225599E+02 -.259068E+02 -.120371E+02 0.345500E+02 -.435785E+02 0.546401E+02 0.222348E+02 0.513746E+02 0.133620E+02 0.450220E+02 0.285289E+02 -.119446E+02\n",
      "\n",
      "new line\n",
      " 0.632970E+01 0.112126E+02 -.654950E+01 0.269438E+01 -.307644E+01 -.113497E+02 0.105176E+02 0.106300E+01 0.247062E+02 0.135079E+02 0.839459E+01 0.106790E+02 0.850802E+01 0.858681E+01 0.330875E+00 -.141825E+01 0.347099E+01 -.123627E+01 0.298627E+01 -.256670E+01 -.128774E+01 0.121510E+01 0.437593E+00 0.442495E+01\n",
      "\n",
      "new line\n",
      " 0.253822E+01 0.511821E+01 0.621459E+01 0.187436E+01 0.207290E+01 -.375903E+00 0.361313E+00 -.104291E+01 -.737243E+00 0.688504E+00 -.228673E+00 0.818709E+00 -.960201E+00 0.119782E-01 0.149605E+00 -.678126E-01 0.773935E+00 0.884605E+00 0.850377E+00 0.153256E+01 0.771705E+00 0.128345E+01 -.563231E+00 0.117158E+00\n",
      "\n",
      "new line\n",
      " -.553433E+00 0.253940E+00 -.704119E-01 -.229615E+00 0.950660E-01 0.575219E-01 0.148987E+00 -.289916E+00 -.740372E-01 -.133935E+00 -.493911E-01 0.711897E-01 0.169583E+00 0.238251E+00 0.455218E+00 0.318882E-01 0.368414E+00 -.415923E-01 0.239473E+00 -.293626E+00 -.347347E-01 -.133081E+00 -.480815E-01 0.257181E-01\n",
      "\n",
      "new line\n",
      "-98049 -.161161E+05 0.141624E+04 0.209497E+04 -.225550E+04 0.310738E+04 0.988659E+03 -.585059E+03 0.942233E+02 0.180173E+03 0.225390E+02 -.110022E+04 -.172894E+04 0.521967E+03 -.253630E+03 -.230647E+03 0.430738E+03 0.339417E+03 -.134225E+03 -.747341E+03 -.155449E+03 0.389609E+02 0.429014E+03 0.284775E+03 -.368024E+02\n",
      "\n",
      "new line\n"
     ]
    }
   ],
   "source": [
    "import matplotlib.pyplot as plt\n",
    "import numpy as np\n",
    "\n",
    "# context manager, closes file when leaving unindented with\n",
    "with open('ggf100k_coeffs', mode='r') as coefficients:\n",
    "    \n",
    "    # for lines in coefficients:\n",
    "\n",
    "    \n",
    "    f = coefficients.readline()\n",
    "    print(f)\n",
    "    print('new line')\n",
    "    # coefficients = f.open('ggf100k_coeffs', 'r')\n",
    "    \n",
    "    f = coefficients.readline()\n",
    "    print(f)\n",
    "    print('new line')\n",
    "    \n",
    "    f = coefficients.readline()\n",
    "    print(f)\n",
    "    print('new line')\n",
    "\n",
    "    f = coefficients.readline()\n",
    "    print(f)\n",
    "    print('new line')\n",
    "\n",
    "    f = coefficients.readline()\n",
    "    print(f)\n",
    "    print('new line')\n",
    "    \n",
    "    f = coefficients.readline()\n",
    "    print(f)\n",
    "    print('new line')\n",
    "\n"
   ]
  },
  {
   "cell_type": "code",
   "execution_count": null,
   "id": "90c9c833",
   "metadata": {},
   "outputs": [],
   "source": []
  }
 ],
 "metadata": {
  "kernelspec": {
   "display_name": "Python 3",
   "language": "python",
   "name": "python3"
  },
  "language_info": {
   "codemirror_mode": {
    "name": "ipython",
    "version": 3
   },
   "file_extension": ".py",
   "mimetype": "text/x-python",
   "name": "python",
   "nbconvert_exporter": "python",
   "pygments_lexer": "ipython3",
   "version": "3.8.8"
  }
 },
 "nbformat": 4,
 "nbformat_minor": 5
}
