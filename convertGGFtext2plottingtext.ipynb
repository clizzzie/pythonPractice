{
 "cells": [
  {
   "cell_type": "markdown",
   "id": "e88cdacf",
   "metadata": {},
   "source": [
    "Goal: create a class function that takes the inputs of Gauss coefficients degree and order and reogranizes that file to make it plottable.\n",
    "\n",
    "## Test Driven Development:\n",
    "* Red\n",
    "    1. Write a test\n",
    "        * Time incruments are spaced equally\n",
    "        * Same number of coefficients across all time\n",
    "        * Data information not included\n",
    "        * The correct number of l and m coefficients at each interval\n",
    "        \n",
    "2. Test fails\n",
    "* Green\n",
    "3. Write code to make test pass\n",
    "4. Code passes test\n",
    "* Refactor\n",
    "5. Workable code, how to improve?\n",
    "6. Clean code\n"
   ]
  },
  {
   "cell_type": "markdown",
   "id": "368b189b",
   "metadata": {},
   "source": [
    "## Text file format:\n",
    "block format starting with the year each consisting of: <br>\n",
    "25 elements in the first row of each year <br>\n",
    "24 elements in the following rows <br>\n",
    "\n",
    "### Example: ggf100k\n",
    "$ year \\quad g_{0}^{0} ... h_{4}^{4} $ &emsp; 25 elements <br>\n",
    "$ g_{5}^{0} ... h_{6}^{6}   $ &emsp;  24 elements <br>\n",
    "$ g_{7}^{0} ... h_{8}^{4}   $ &emsp; 24 elements<br>\n",
    "$ g_{5}^{0} ... h_{6}^{6}   $ &emsp; 24 elements <br>\n",
    "$ g_{8}^{9} ... h_{10}^{10} $ &emsp; 24 elements\n",
    "\n",
    "$ year+1 \\quad g_{0}^{0} ... h_{4}^{4} $ &emsp; 25 elements <br>\n",
    "$ g_{5}^{0} ... h_{6}^{6}   $ &emsp;  24 elements <br>\n",
    "$ g_{7}^{0} ... h_{8}^{4}   $ &emsp; 24 elements<br>\n",
    "$ g_{5}^{0} ... h_{6}^{6}   $ &emsp; 24 elements <br>\n",
    "$ g_{8}^{9} ... h_{10}^{10} $ &emsp; 24 elements <br>\n",
    ". <br>\n",
    ". <br>\n",
    ". <br>"
   ]
  },
  {
   "cell_type": "markdown",
   "id": "195637f4",
   "metadata": {},
   "source": [
    "### Script cell block below gets the number per line in a year block\n",
    "Import libraries and load data <br>\n",
    "with open(): context manager, closes file when leaving unindented <br>\n",
    "readlines: reads lines as individual elements in the list <br>\n",
    "np.fromstrings: converts the list element string to array float <br>\n",
    "for loop: Get the length of each line in a year block <br>\n",
    "\n",
    "UPDATE THIS CELL"
   ]
  },
  {
   "cell_type": "code",
   "execution_count": 10,
   "id": "a8000f80",
   "metadata": {},
   "outputs": [
    {
     "name": "stdout",
     "output_type": "stream",
     "text": [
      "The length of each line is: [25. 24. 24. 24. 24.]\n",
      "The total number of lines are: 500205\n",
      "The total years: 100041.0\n",
      "Total coefficients per year: 120.0\n"
     ]
    }
   ],
   "source": [
    "import numpy as np\n",
    "\n",
    "# The number of line blocks per each year of data will be the input arguments\n",
    "blocklinelen = 5\n",
    "\n",
    "with open('ggf100k_coeffs', mode='r') as f:\n",
    "    lines = f.readlines()\n",
    "    linecount = len(lines)\n",
    "    \n",
    "    # need to count the amount of zeros needed\n",
    "    eachLine = np.zeros(blocklinelen)\n",
    "    j=0\n",
    "    for index in range(0,blocklinelen):\n",
    "        blockLine = np.fromstring(lines[index], dtype=float, sep=' ')\n",
    "        eachLine[j] = len(blockLine)\n",
    "        j += 1\n",
    "    else:\n",
    "        pass\n",
    "    f.close()\n",
    "\n",
    "totalYears = linecount/blocklinelen\n",
    "assert totalYears.is_integer(), 'An uneven number of block lines with total years'\n",
    "    \n",
    "print('The length of each line is:', eachLine)\n",
    "print('The total number of lines are:', linecount)\n",
    "print('The total years:', totalYears)"
   ]
  },
  {
   "cell_type": "markdown",
   "id": "02e604c4",
   "metadata": {},
   "source": [
    "### Script cell block below extracts the years\n",
    "Similar to above cell script <br> \n",
    "for loop: collects the year from lines 0,5,10,15,... <br>\n",
    "Calculates the total number of years, includes year 0 if needed <br>\n",
    "\n",
    "UPDATE THIS CELL"
   ]
  },
  {
   "cell_type": "code",
   "execution_count": 5,
   "id": "e56b09de",
   "metadata": {},
   "outputs": [],
   "source": [
    "# collect years\n",
    "with open('ggf100k_coeffs', mode='r') as f:\n",
    "    lines = f.readlines()\n",
    "    \n",
    "    year = np.zeros(int(totalYears))\n",
    "    j=0\n",
    "    for index, line in enumerate(lines, 0):\n",
    "        if (index % blocklinelen) == 0:\n",
    "            yearList = np.fromstring(lines[index], dtype=float, sep=' ')\n",
    "            year[j] = yearList[0]\n",
    "            j += 1\n",
    "        else:\n",
    "            pass\n",
    "    f.close()\n",
    "\n",
    "assert year[0] < year[-1], 'Years not in order'\n",
    "assert totalYears == len(year)\n",
    "assert sum(np.diff(year, n=2)) == 0, 'The years are not equally spaced'"
   ]
  },
  {
   "cell_type": "markdown",
   "id": "213ae340",
   "metadata": {},
   "source": [
    "### Calculate the degree and order"
   ]
  },
  {
   "cell_type": "code",
   "execution_count": 11,
   "id": "7f13910e",
   "metadata": {},
   "outputs": [
    {
     "name": "stdout",
     "output_type": "stream",
     "text": [
      "Total coefficients per year: 120.0\n"
     ]
    }
   ],
   "source": [
    "totalGC = sum(eachLine)-1\n",
    "print('Total coefficients per year:', totalGC)\n",
    "\n"
   ]
  },
  {
   "cell_type": "code",
   "execution_count": 4,
   "id": "4121ba0e",
   "metadata": {},
   "outputs": [],
   "source": []
  },
  {
   "cell_type": "code",
   "execution_count": null,
   "id": "3b3ca3b0",
   "metadata": {},
   "outputs": [],
   "source": []
  }
 ],
 "metadata": {
  "kernelspec": {
   "display_name": "Python 3",
   "language": "python",
   "name": "python3"
  },
  "language_info": {
   "codemirror_mode": {
    "name": "ipython",
    "version": 3
   },
   "file_extension": ".py",
   "mimetype": "text/x-python",
   "name": "python",
   "nbconvert_exporter": "python",
   "pygments_lexer": "ipython3",
   "version": "3.8.8"
  }
 },
 "nbformat": 4,
 "nbformat_minor": 5
}
