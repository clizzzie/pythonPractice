{
 "cells": [
  {
   "cell_type": "markdown",
   "id": "e88cdacf",
   "metadata": {},
   "source": [
    "Goal: create a class function that takes the inputs of Gauss coefficients degree and order and reogranizes that file to make it plottable.\n",
    "\n",
    "# Test Driven Development:\n",
    "* Red\n",
    "    1. Write a test\n",
    "        * Time incruments are spaced equally\n",
    "        * Same number of coefficients across all time\n",
    "        * Data information not included\n",
    "        * The correct number of l and m coefficients at each interval\n",
    "        \n",
    "2. Test fails\n",
    "* Green\n",
    "3. Write code to make test pass\n",
    "4. Code passes test\n",
    "* Refactor\n",
    "5. Workable code, how to improve?\n",
    "6. Clean code\n"
   ]
  },
  {
   "cell_type": "markdown",
   "id": "195637f4",
   "metadata": {},
   "source": [
    "Import libraries and load data\n",
    "   \n",
    "ggf100k_coeffs: Giant Gauss Function 100 thousand years Gauss Coefficients 27 coefficients for every year\n",
    "\n",
    "5 lines of text is blocked for one year of coefficients"
   ]
  },
  {
   "cell_type": "code",
   "execution_count": 1,
   "id": "e56b09de",
   "metadata": {},
   "outputs": [],
   "source": [
    "import numpy as np\n",
    "\n",
    "# context manager, closes file when leaving unindented with\n",
    "with open('ggf100k_coeffs', mode='r') as f:\n",
    "    lines = f.readlines()\n",
    "    \n",
    "    # collect years\n",
    "    year = np.zeros(100041)\n",
    "    \n",
    "    j=0\n",
    "    for index, line in enumerate(lines, 0):\n",
    "        if (index % 5) == 0:\n",
    "            yearList = np.fromstring(lines[index], dtype=float, sep=' ')\n",
    "            year[j] = yearList[0]\n",
    "            j += 1\n",
    "        else:\n",
    "            pass\n",
    "        \n",
    "# reverse order: year(::-1)"
   ]
  },
  {
   "cell_type": "code",
   "execution_count": null,
   "id": "4121ba0e",
   "metadata": {},
   "outputs": [],
   "source": []
  }
 ],
 "metadata": {
  "kernelspec": {
   "display_name": "Python 3",
   "language": "python",
   "name": "python3"
  },
  "language_info": {
   "codemirror_mode": {
    "name": "ipython",
    "version": 3
   },
   "file_extension": ".py",
   "mimetype": "text/x-python",
   "name": "python",
   "nbconvert_exporter": "python",
   "pygments_lexer": "ipython3",
   "version": "3.8.8"
  }
 },
 "nbformat": 4,
 "nbformat_minor": 5
}
