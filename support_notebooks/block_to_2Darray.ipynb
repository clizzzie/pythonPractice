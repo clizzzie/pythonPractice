{
 "cells": [
  {
   "cell_type": "markdown",
   "source": [
    "## Goal:\n",
    "Create a function that reorganizes a text file to make a new text file that is plottable by python.\n",
    "\n",
    "## Text file formats:\n",
    "Block format starting with the year and following coefficient in correct order\n",
    "The location of each cofficient has to be the same within each block. The size of each line does not matter.\n",
    "\n",
    "#### Example: ggf100k  (BEFORE)\n",
    "$ year \\quad g_{1}^{0} ... h_{4}^{4} $ &emsp; 25 elements <br>\n",
    "$ g_{5}^{0} ... h_{6}^{6}   $ &emsp;  24 elements <br>\n",
    "$ g_{7}^{0} ... h_{8}^{4}   $ &emsp; 24 elements <br>\n",
    "$ g_{5}^{0} ... h_{6}^{6}   $ &emsp; 24 elements <br>\n",
    "$ g_{8}^{9} ... h_{10}^{10} $ &emsp; 24 elements\n",
    "\n",
    "$ year+1 \\quad g_{1}^{0} ... h_{4}^{4} $ &emsp; 25 elements <br>\n",
    "$ g_{5}^{0} ... h_{6}^{6}   $ &emsp;  24 elements <br>\n",
    "$ g_{7}^{0} ... h_{8}^{4}   $ &emsp; 24 elements <br>\n",
    "$ g_{5}^{0} ... h_{6}^{6}   $ &emsp; 24 elements <br>\n",
    "$ g_{8}^{9} ... h_{10}^{10} $ &emsp; 24 elements <br>\n",
    "\n",
    "The new text file is a 2-D array with every row containing on year of coefficients <br>\n",
    "\n",
    "#### Example: 2-D array of ggf100k (NEW)\n",
    "year     $ \\quad g_{1}^{0} ... g_{4}^{3}  h_{4}^{3} g_{4}^{4} h_{4}^{4} ...  h_{10}^{10} \\quad $ 121 elements  <br>\n",
    "year+1  $ g_{1}^{0} ... g_{4}^{3} h_{4}^{3} g_{4}^{4} h_{4}^{4} ...  h_{10}^{10} \\quad $ 121 elements <br>"
   ],
   "metadata": {}
  },
  {
   "cell_type": "markdown",
   "source": [
    "### get_lines: reads in lines from the text document\n",
    "with open(): context manager, closes file when leaving unindented <br>\n",
    "readlines: reads lines as individual elements in the list <br>"
   ],
   "metadata": {
    "tags": []
   }
  },
  {
   "cell_type": "code",
   "execution_count": 161,
   "source": [
    "def get_lines(textdoc):\n",
    "    \"\"\"Reads in a text document.\n",
    "    Input : textdoc needs to be in string format\n",
    "    Output: lines comes out as a list, each element in the list is a\n",
    "            in the text document\n",
    "    \"\"\"\n",
    "    assert type(textdoc) == str, 'textdoc is not a string'\n",
    "    \n",
    "    with open(textdoc, mode='r') as f:\n",
    "        lines = f.readlines()\n",
    "        \n",
    "    return lines"
   ],
   "outputs": [],
   "metadata": {
    "tags": []
   }
  },
  {
   "cell_type": "markdown",
   "source": [
    "### get_eachline: Gets the number per line in a year block and total years\n",
    "np.fromstrings: converts the list element string to array float <br>\n",
    "for loop: Get the length of each line in a year block <br>\n",
    "calculates the total lines in the text document"
   ],
   "metadata": {
    "tags": []
   }
  },
  {
   "cell_type": "code",
   "execution_count": 162,
   "source": [
    "def get_eachline(lines, blocklinelen):\n",
    "    \"\"\"Gets the number of elements in each line for a year block and\n",
    "    calculate the total number of years.\n",
    "    Input   : lines is a list, in each element is a line in the text document\n",
    "            : blocklinelen is the number of lines in a year block in the text document\n",
    "    Output  : linecount is an integer of the total text document line length\n",
    "            : eachLine is an array containing the elements in each block of line\n",
    "    \"\"\"\n",
    "    \n",
    "    assert type(lines)        == list, 'lines is not a list'\n",
    "    assert type(blocklinelen) == int , 'block line length is not an integer'\n",
    "    \n",
    "    eachLine = np.zeros(blocklinelen)\n",
    "    j = 0\n",
    "    for index in range(0,blocklinelen):\n",
    "        blockLine   = np.fromstring(lines[index], dtype=float, sep=' ')\n",
    "        eachLine[j] = len(blockLine)\n",
    "        j += 1\n",
    "        \n",
    "    linecount  = len(lines)\n",
    "    totalYears = linecount/blocklinelen\n",
    "    \n",
    "    assert totalYears.is_integer(), 'An uneven number of block lines with total years'\n",
    "    \n",
    "    print('The total number of lines in the text document:', linecount)\n",
    "    print('The length of each line is:', eachLine)\n",
    "    print('The total year blocks:', totalYears)\n",
    "    \n",
    "    return linecount, eachLine"
   ],
   "outputs": [],
   "metadata": {
    "tags": []
   }
  },
  {
   "cell_type": "markdown",
   "source": [
    "### get_years: Extracts the years\n",
    "Similar to above cell script <br> \n",
    "for loop: collects the year from lines 0, blocklinelen, 2*blocklinelen, ... <br>"
   ],
   "metadata": {
    "tags": []
   }
  },
  {
   "cell_type": "code",
   "execution_count": 163,
   "source": [
    "def get_years(lines, blocklinelen):\n",
    "    \"\"\" Extracts the years from the lines at the blocklinelen multiple\n",
    "    Input   : lines is a list, in each element is a line in the text document\n",
    "            : blocklinelen is the number of lines in a year block in the text document\n",
    "    Output  : year is a 1-D array of the years\n",
    "    \"\"\"\n",
    "    assert type(lines)        == list, 'lines is not a list'\n",
    "    assert type(blocklinelen) == int , 'block line length is not an integer'\n",
    "    \n",
    "    linecount  = len(lines)\n",
    "    totalYears = int(linecount/blocklinelen)\n",
    "    \n",
    "    year       = np.zeros(int(totalYears))\n",
    "    j          = 0\n",
    "    \n",
    "    for index, line in enumerate(lines, 0):\n",
    "        if (index % blocklinelen) == 0:\n",
    "            yearList              = np.fromstring(lines[index], dtype=float, sep=' ')\n",
    "            year[j]               = yearList[0]\n",
    "            j += 1\n",
    "            \n",
    "            if j>1:\n",
    "                assert year[j-1] >= year[j-2], 'Years is not in chronological order'\n",
    "        \n",
    "    if len(np.unique(np.diff(year, n=1))) > 1: \n",
    "        print('THE YEARS ARE NOT EQUALLY SPACED!!!')\n",
    "   \n",
    "    assert len(np.unique(year))   == totalYears , 'There are duplicate years'\n",
    "    \n",
    "    return year"
   ],
   "outputs": [],
   "metadata": {
    "tags": []
   }
  },
  {
   "cell_type": "markdown",
   "source": [
    "### get_degree: Calculates the degree and order\n",
    "* Total Gauss Coefficients per year $=2l +1 $\n",
    "* While loop: subtracts from the total coefficients in an increasing order until zero"
   ],
   "metadata": {
    "tags": []
   }
  },
  {
   "cell_type": "code",
   "execution_count": 164,
   "source": [
    "def get_degree(eachLine):\n",
    "    \"\"\" Calculates the degree and order from the total element length of a year block\n",
    "    Input   : lines is a list, in each element is a line in the text document\n",
    "            : blocklinelen is the number of lines in a year block in the text document\n",
    "    Output  : l is the Gauss coefficient degree\n",
    "            : totalGC is the total number of coefficients per year\n",
    "    \"\"\"\n",
    "    \n",
    "    assert type(eachLine) == np.ndarray\n",
    "    \n",
    "    totalGC = int(sum(eachLine)-1)\n",
    "    countGC = totalGC\n",
    "    \n",
    "    l = 1\n",
    "    while countGC > 0:\n",
    "        countGC = countGC - (2*l+1)\n",
    "        l       +=1\n",
    "    l = l-1\n",
    "    \n",
    "    assert countGC == 0, 'The number of cofficients does not equal 2l+1 amounts'\n",
    "    \n",
    "    print('Total coefficients per year:', totalGC)\n",
    "    print('The degree and order is'     , l      )\n",
    "    \n",
    "    return l, totalGC"
   ],
   "outputs": [],
   "metadata": {
    "tags": []
   }
  },
  {
   "cell_type": "markdown",
   "source": [
    "### create_2Darray: Put together the matrix\n",
    "for loop: similar to the loops above but creates a 2-D array with every row containing on year of coefficients\n",
    "\n",
    "#### Example: new 2-D array of ggf100k\n",
    "year     $ \\quad g_{1}^{0} ... g_{4}^{3}  h_{4}^{3} g_{4}^{4} h_{4}^{4} ...  h_{10}^{10} \\quad $ 121 elements  <br>\n",
    "year+1  $ g_{1}^{0} ... g_{4}^{3} h_{4}^{3} g_{4}^{4} h_{4}^{4} ...  h_{10}^{10} \\quad $ 121 elements <br>\n",
    "\n"
   ],
   "metadata": {
    "tags": []
   }
  },
  {
   "cell_type": "code",
   "execution_count": 165,
   "source": [
    "def create_2Darray(lines, blocklinelen, totalGC, eachLine):\n",
    "    \"\"\"\n",
    "    Creates the 2D array\n",
    "    Input   : lines is a list, in each element is a line in the text document\n",
    "            : blocklinelen is the number of lines in a year block in the text document\n",
    "    Output  : coeff is the coefficients of the 2D array\n",
    "    \"\"\"\n",
    "    \n",
    "    assert type(lines)        == list, 'lines is not a list'\n",
    "    assert type(blocklinelen) == int , 'block line length is not an integer'\n",
    "    assert type(totalGC)      == int , 'totalGC is not an integer'\n",
    "     \n",
    "    coeff = np.zeros((int(len(lines)/blocklinelen), int(totalGC+1)))\n",
    "    row   = 0\n",
    "    j     = 0\n",
    "\n",
    "    for index, line in enumerate(lines, 0):\n",
    "        \n",
    "        yearList   = np.fromstring(lines[index], dtype=float, sep=' ')\n",
    "        elementLen = len(yearList)\n",
    "        \n",
    "        assert type(yearList) == np.ndarray, 'One row line is not an array'\n",
    "\n",
    "        if ((index % blocklinelen) == 0) and (index!=0):\n",
    "            row += 1\n",
    "            j    = 0\n",
    "            \n",
    "        if (index % blocklinelen) == 0:\n",
    "            col=0\n",
    "            coeff[row, col:elementLen]       = yearList\n",
    "        else:\n",
    "            coeff[row, col:(elementLen+col)] = yearList\n",
    "            \n",
    "        col+=elementLen\n",
    "        \n",
    "        assert elementLen == eachLine[j], 'The length of the line is not the correct'\n",
    "        j+=1\n",
    "    \n",
    "    assert coeff.shape  == (int(len(lines)/blocklinelen), int(totalGC+1))\n",
    "    \n",
    "    return coeff"
   ],
   "outputs": [],
   "metadata": {
    "tags": []
   }
  },
  {
   "cell_type": "markdown",
   "source": [
    "### main function:\n",
    "Imports libraries <br>\n",
    "Calls all functions as needed and in order <br>\n",
    "Also calculates the std, mean, min, max of the first few Gauss coefficients <br>\n",
    "Saves the new 2D array as a text document"
   ],
   "metadata": {
    "tags": []
   }
  },
  {
   "cell_type": "code",
   "execution_count": 166,
   "source": [
    "import numpy as np\n",
    "\n",
    "blocklinelen    = 3\n",
    "document        = 'testPass.txt'\n",
    "saveDocument    = 'testing.txt'\n",
    "\n",
    "def main():\n",
    "    \"\"\" block_to_2Darray creates a new text file that reorganizes a year block format to a 2D array with\n",
    "    each row containing a year of Gauss coefficients.\n",
    "    Input   : blocklinelen is the number of lines in a year block in the text document\n",
    "            : document is a string with the document name\n",
    "            : saveDocument is a string the 2D array will save as\n",
    "    Output  : coeff2D is a 2D array with each row containing a time increment of Gauss coefficients\n",
    "    \"\"\"\n",
    "\n",
    "    assert type(document)     == str, 'document is not a string'\n",
    "    assert type(saveDocument) == str, 'saveDocument is not a string'\n",
    "\n",
    "    blocklinelen              = int(blocklinelen)\n",
    "    lines                     = get_lines(document)\n",
    "    [linecount, eachLine]     = get_eachline(lines, blocklinelen)\n",
    "    year                      = get_years(lines, blocklinelen)\n",
    "    l_degree, totalGC         = get_degree(eachLine)\n",
    "    coeff2D                   = create_2Darray(lines, blocklinelen, totalGC, eachLine)\n",
    "\n",
    "    print('g10 std:', np.std(coeff2D[:,1]), 'mean:', np.mean(coeff2D[:,1]),'min:', np.min(coeff2D[:,1]),'max:', np.max(coeff2D[:,1]))\n",
    "    print('g11 std:', np.std(coeff2D[:,2]), 'mean:', np.mean(coeff2D[:,2]),'min:', np.min(coeff2D[:,2]),'max:', np.max(coeff2D[:,2]))\n",
    "    print('h11 std:', np.std(coeff2D[:,3]), 'mean:', np.mean(coeff2D[:,3]),'min:', np.min(coeff2D[:,3]),'max:', np.max(coeff2D[:,3]))\n",
    "    \n",
    "    np.savetxt(saveDocument, coeff)\n"
   ],
   "outputs": [
    {
     "output_type": "stream",
     "name": "stdout",
     "text": [
      "The total number of lines in the text document: 15\n",
      "The length of each line is: [16.  9. 11.]\n",
      "The total year blocks: 5.0\n",
      "Total coefficients per year: 35\n",
      "The degree and order is 5\n",
      "g10 std: 14.142135623730951 mean: 21.0 min: 1.0 max: 41.0\n",
      "g11 std: 14.142135623730951 mean: 22.0 min: 2.0 max: 42.0\n",
      "h11 std: 14.142135623730951 mean: 23.0 min: 3.0 max: 43.0\n"
     ]
    }
   ],
   "metadata": {}
  }
 ],
 "metadata": {
  "interpreter": {
   "hash": "25fdbbd1767db64280408ae592d559f5899253d01d0fd5d5ce502e2a945d34ce"
  },
  "kernelspec": {
   "name": "python3",
   "display_name": "Python 3.8.8 64-bit ('base': conda)"
  },
  "language_info": {
   "codemirror_mode": {
    "name": "ipython",
    "version": 3
   },
   "file_extension": ".py",
   "mimetype": "text/x-python",
   "name": "python",
   "nbconvert_exporter": "python",
   "pygments_lexer": "ipython3",
   "version": "3.8.8"
  }
 },
 "nbformat": 4,
 "nbformat_minor": 5
}