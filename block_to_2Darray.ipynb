{
 "cells": [
  {
   "cell_type": "markdown",
   "id": "e88cdacf",
   "metadata": {},
   "source": [
    "## Goal:\n",
    "Create a function that reorganizes a text file to make a new text file that is plottable by python.\n",
    "\n",
    "## Test:\n",
    "* Time incruments are spaced equally\n",
    "* Same number of coefficients across all time\n",
    "* Data information not included\n",
    "* The correct number of l and m coefficients at each interval\n"
   ]
  },
  {
   "cell_type": "markdown",
   "id": "51af2aec",
   "metadata": {},
   "source": [
    "## Text file format:\n",
    "Block format starting with the year and following coefficient in correct order\n",
    "\n",
    "### Example: ggf100k\n",
    "$ year \\quad g_{1}^{0} ... h_{4}^{4} $ &emsp; 25 elements <br>\n",
    "$ g_{5}^{0} ... h_{6}^{6}   $ &emsp;  24 elements <br>\n",
    "$ g_{7}^{0} ... h_{8}^{4}   $ &emsp; 24 elements<br>\n",
    "$ g_{5}^{0} ... h_{6}^{6}   $ &emsp; 24 elements <br>\n",
    "$ g_{8}^{9} ... h_{10}^{10} $ &emsp; 24 elements\n",
    "\n",
    "$ year+1 \\quad g_{1}^{0} ... h_{4}^{4} $ &emsp; 25 elements <br>\n",
    "$ g_{5}^{0} ... h_{6}^{6}   $ &emsp;  24 elements <br>\n",
    "$ g_{7}^{0} ... h_{8}^{4}   $ &emsp; 24 elements<br>\n",
    "$ g_{5}^{0} ... h_{6}^{6}   $ &emsp; 24 elements <br>\n",
    "$ g_{8}^{9} ... h_{10}^{10} $ &emsp; 24 elements <br>"
   ]
  },
  {
   "cell_type": "markdown",
   "id": "98fc6921-c1be-4767-a36b-5e45aca2376f",
   "metadata": {},
   "source": [
    "### main function:\n",
    "Imports libraries\n",
    "Calls all functions as needed and in order"
   ]
  },
  {
   "cell_type": "code",
   "execution_count": 8,
   "id": "c4147f77-70c6-4b81-95ad-3436cbd143ed",
   "metadata": {},
   "outputs": [
    {
     "name": "stdout",
     "output_type": "stream",
     "text": [
      "The total number of lines in the text document are: 12\n"
     ]
    }
   ],
   "source": [
    "import numpy as np\n",
    "\n",
    "[lines, linecount] = get_linecount('testPass.txt')\n"
   ]
  },
  {
   "cell_type": "markdown",
   "id": "195637f4",
   "metadata": {
    "jupyter": {
     "source_hidden": true
    },
    "tags": []
   },
   "source": [
    "### get_linecount:\n",
    "with open(): context manager, closes file when leaving unindented <br>\n",
    "readlines: reads lines as individual elements in the list <br>"
   ]
  },
  {
   "cell_type": "code",
   "execution_count": 7,
   "id": "922d1b8a",
   "metadata": {
    "jupyter": {
     "source_hidden": true
    },
    "tags": []
   },
   "outputs": [],
   "source": [
    "def get_linecount(textdoc):\n",
    "    \"\"\"Reads in a text document and counts the number of lines.\n",
    "    Input : textdoc needs to be in string format\n",
    "    Output: lines comes out as a list, each element in the list is a\n",
    "            in the text document\n",
    "          : linecount is the total number of lines in the document\n",
    "    \"\"\"\n",
    "    assert type(textdoc) == str, 'textdoc is not a string'\n",
    "    \n",
    "    with open(textdoc, mode='r') as f:\n",
    "        lines = f.readlines()\n",
    "        linecount = len(lines)\n",
    "        \n",
    "    print('The total number of lines in the text document are:', linecount)\n",
    "    return lines, linecount"
   ]
  },
  {
   "cell_type": "markdown",
   "id": "bbcf6c39",
   "metadata": {},
   "source": [
    "### Cell block below: Gets the number per line in a year block and total years\n",
    "np.fromstrings: converts the list element string to array float <br>\n",
    "for loop: Get the length of each line in a year block <br>"
   ]
  },
  {
   "cell_type": "code",
   "execution_count": null,
   "id": "54e2be39-79b0-40d9-9107-ead219650fd9",
   "metadata": {},
   "outputs": [],
   "source": [
    "# need to count size needed for initalization of coefficients\n",
    "eachLine = np.zeros(blocklinelen)\n",
    "j=0\n",
    "for index in range(0,blocklinelen):\n",
    "    blockLine = np.fromstring(lines[index], dtype=float, sep=' ')\n",
    "    eachLine[j] = len(blockLine)\n",
    "    j += 1\n",
    "\n",
    "totalYears = linecount/blocklinelen\n",
    "assert totalYears.is_integer(), 'An uneven number of block lines with total years'\n",
    "    \n",
    "print('The length of each line is:', eachLine)\n",
    "print('The total years:', totalYears)"
   ]
  },
  {
   "cell_type": "code",
   "execution_count": 2,
   "id": "df3b361b",
   "metadata": {},
   "outputs": [
    {
     "name": "stdout",
     "output_type": "stream",
     "text": [
      "The length of each line is: [25. 24. 24. 24. 24.]\n",
      "The total years: 100041.0\n"
     ]
    }
   ],
   "source": [
    "# need to count size needed for initalization of coefficients\n",
    "eachLine = np.zeros(blocklinelen)\n",
    "j=0\n",
    "for index in range(0,blocklinelen):\n",
    "    blockLine = np.fromstring(lines[index], dtype=float, sep=' ')\n",
    "    eachLine[j] = len(blockLine)\n",
    "    j += 1\n",
    "\n",
    "totalYears = linecount/blocklinelen\n",
    "assert totalYears.is_integer(), 'An uneven number of block lines with total years'\n",
    "    \n",
    "print('The length of each line is:', eachLine)\n",
    "print('The total years:', totalYears)"
   ]
  },
  {
   "cell_type": "markdown",
   "id": "8cb573d1",
   "metadata": {},
   "source": [
    "### Cell block below: Extracts the years\n",
    "Similar to above cell script <br> \n",
    "for loop: collects the year from lines 0,5,10,15,... <br>"
   ]
  },
  {
   "cell_type": "code",
   "execution_count": 3,
   "id": "e56b09de",
   "metadata": {},
   "outputs": [],
   "source": [
    "year = np.zeros(int(totalYears))\n",
    "j=0\n",
    "for index, line in enumerate(lines, 0):\n",
    "    if (index % blocklinelen) == 0:\n",
    "        yearList = np.fromstring(lines[index], dtype=float, sep=' ')\n",
    "        year[j] = yearList[0]\n",
    "        j += 1\n",
    "    else:\n",
    "        pass\n",
    "\n",
    "assert year[0] < year[-1], 'Years not in order'\n",
    "assert totalYears == len(year)\n",
    "assert sum(np.diff(year, n=2)) == 0, 'The years are not equally spaced'"
   ]
  },
  {
   "cell_type": "markdown",
   "id": "11203ec5",
   "metadata": {},
   "source": [
    "### Cell block below: Calculates the degree and order\n",
    "* Total Gauss Coefficients per year$ = 2l +1 $\n",
    "* While loop: subtracts from the total coefficients in an increasing order until zero"
   ]
  },
  {
   "cell_type": "code",
   "execution_count": 4,
   "id": "6bd50747",
   "metadata": {},
   "outputs": [
    {
     "name": "stdout",
     "output_type": "stream",
     "text": [
      "Total coefficients per year: 120.0\n",
      "The degree and order is 10\n"
     ]
    }
   ],
   "source": [
    "totalGC = sum(eachLine)-1                        # subtract year\n",
    "print('Total coefficients per year:', totalGC)\n",
    "\n",
    "countGC = totalGC\n",
    "l=1\n",
    "while countGC > 0:\n",
    "    countGC = countGC - (2*l+1)\n",
    "    l+=1\n",
    "l = l-1\n",
    "assert countGC == 0\n",
    "print('The degree and order is', l)"
   ]
  },
  {
   "cell_type": "markdown",
   "id": "371a13b7",
   "metadata": {},
   "source": [
    "### Put together the matrix\n",
    "for loop: similar to the loops above but creates a 2-D array with every row containing on year of coefficients\n",
    "\n",
    "### Example: new 2-D array of ggf100k\n",
    "$ year \\quad g_{1}^{0} ... g_{4}^{4} h_{4}^{4} ...  h_{10}^{10} \\quad \\quad $ 121 elements  <br>\n",
    "$ year + 1 \\quad g_{1}^{0} ... g_{4}^{4} h_{4}^{4} ...  h_{10}^{10} \\quad $ 121 elements <br>\n",
    "\n"
   ]
  },
  {
   "cell_type": "code",
   "execution_count": 5,
   "id": "861519fe",
   "metadata": {},
   "outputs": [],
   "source": [
    "coeff = np.zeros((int(len(lines)/blocklinelen), int(totalGC+1)))\n",
    "row = 0\n",
    "for index, line in enumerate(lines, 0):\n",
    "    \n",
    "    yearList = np.fromstring(lines[index], dtype=float, sep=' ')\n",
    "    elementLen = len(yearList)       # will update with loop\n",
    "        \n",
    "    if ((index % blocklinelen) == 0) and (index!=0):\n",
    "        row+=1\n",
    "    \n",
    "    if (index % blocklinelen) == 0:\n",
    "        col=0\n",
    "        coeff[row, col:elementLen] = yearList\n",
    "\n",
    "    else:\n",
    "        coeff[row, col:(elementLen+col)] = yearList  \n",
    "    col+=elementLen"
   ]
  },
  {
   "cell_type": "code",
   "execution_count": 6,
   "id": "df2a55af",
   "metadata": {},
   "outputs": [],
   "source": [
    "np.savetxt('ggf100k_test.txt', coeff)"
   ]
  }
 ],
 "metadata": {
  "kernelspec": {
   "display_name": "Python 3",
   "language": "python",
   "name": "python3"
  },
  "language_info": {
   "codemirror_mode": {
    "name": "ipython",
    "version": 3
   },
   "file_extension": ".py",
   "mimetype": "text/x-python",
   "name": "python",
   "nbconvert_exporter": "python",
   "pygments_lexer": "ipython3",
   "version": "3.8.8"
  }
 },
 "nbformat": 4,
 "nbformat_minor": 5
}
