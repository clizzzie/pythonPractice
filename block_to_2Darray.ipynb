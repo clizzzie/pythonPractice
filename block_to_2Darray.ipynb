{
 "cells": [
  {
   "cell_type": "markdown",
   "id": "e88cdacf",
   "metadata": {},
   "source": [
    "## Goal:\n",
    "Create a function that reorganizes a text file to make a new text file that is plottable by python.\n",
    "\n",
    "## Test:\n",
    "* Time incruments are spaced equally\n",
    "* Same number of coefficients across all time\n",
    "* Data information not included\n",
    "* The correct number of l and m coefficients at each interval\n"
   ]
  },
  {
   "cell_type": "markdown",
   "id": "51af2aec",
   "metadata": {},
   "source": [
    "## Text file format:\n",
    "Block format starting with the year and following coefficient in correct order\n",
    "The location of each cofficient has to be the same within each block. The size of each line does not matter.\n",
    "\n",
    "#### Example: ggf100k\n",
    "$ year \\quad g_{1}^{0} ... h_{4}^{4} $ &emsp; 25 elements <br>\n",
    "$ g_{5}^{0} ... h_{6}^{6}   $ &emsp;  24 elements <br>\n",
    "$ g_{7}^{0} ... h_{8}^{4}   $ &emsp; 24 elements<br>\n",
    "$ g_{5}^{0} ... h_{6}^{6}   $ &emsp; 24 elements <br>\n",
    "$ g_{8}^{9} ... h_{10}^{10} $ &emsp; 24 elements\n",
    "\n",
    "$ year+1 \\quad g_{1}^{0} ... h_{4}^{4} $ &emsp; 25 elements <br>\n",
    "$ g_{5}^{0} ... h_{6}^{6}   $ &emsp;  24 elements <br>\n",
    "$ g_{7}^{0} ... h_{8}^{4}   $ &emsp; 24 elements<br>\n",
    "$ g_{5}^{0} ... h_{6}^{6}   $ &emsp; 24 elements <br>\n",
    "$ g_{8}^{9} ... h_{10}^{10} $ &emsp; 24 elements <br>"
   ]
  },
  {
   "cell_type": "markdown",
   "id": "195637f4",
   "metadata": {
    "tags": []
   },
   "source": [
    "### get_lines:\n",
    "with open(): context manager, closes file when leaving unindented <br>\n",
    "readlines: reads lines as individual elements in the list <br>"
   ]
  },
  {
   "cell_type": "code",
   "execution_count": 50,
   "id": "922d1b8a",
   "metadata": {
    "tags": []
   },
   "outputs": [],
   "source": [
    "def get_lines(textdoc):\n",
    "    \"\"\"Reads in a text document.\n",
    "    Input : textdoc needs to be in string format\n",
    "    Output: lines comes out as a list, each element in the list is a\n",
    "            in the text document\n",
    "    \"\"\"\n",
    "    assert type(textdoc) == str, 'textdoc is not a string'\n",
    "    \n",
    "    with open(textdoc, mode='r') as f:\n",
    "        lines = f.readlines()\n",
    "        \n",
    "    return lines"
   ]
  },
  {
   "cell_type": "markdown",
   "id": "bbcf6c39",
   "metadata": {
    "tags": []
   },
   "source": [
    "### get_eachline: Gets the number per line in a year block and total years\n",
    "np.fromstrings: converts the list element string to array float <br>\n",
    "for loop: Get the length of each line in a year block <br>\n",
    "calculates the total lines in the text document\n",
    "\n",
    "# Need to fill in output for help!!!!"
   ]
  },
  {
   "cell_type": "code",
   "execution_count": 51,
   "id": "54e2be39-79b0-40d9-9107-ead219650fd9",
   "metadata": {
    "tags": []
   },
   "outputs": [],
   "source": [
    "def get_eachline(lines, blocklinelen):\n",
    "    \"\"\"Gets the number of elements in each line for a year block and\n",
    "    calculate the total number of years.\n",
    "    Input   : lines is a list, in each element is a line in the text document\n",
    "            : blocklinelen is the number of lines in a year block in the text document\n",
    "    Output  : \n",
    "    \"\"\"\n",
    "    \n",
    "    assert type(lines)        == list, 'lines is not a list'\n",
    "    assert type(blocklinelen) == int , 'block line length is not an integer'\n",
    "    \n",
    "    eachLine = np.zeros(blocklinelen)\n",
    "    j = 0\n",
    "    for index in range(0,blocklinelen):\n",
    "        blockLine   = np.fromstring(lines[index], dtype=float, sep=' ')\n",
    "        eachLine[j] = len(blockLine)\n",
    "        j += 1\n",
    "        \n",
    "    linecount  = len(lines)\n",
    "    totalYears = linecount/blocklinelen\n",
    "    \n",
    "    assert totalYears.is_integer(), 'An uneven number of block lines with total years'\n",
    "    \n",
    "    print('The total number of lines in the text document:', linecount)\n",
    "    print('The length of each line is:', eachLine)\n",
    "    print('The total year blocks:', totalYears)\n",
    "    \n",
    "    return linecount, eachLine"
   ]
  },
  {
   "cell_type": "markdown",
   "id": "8cb573d1",
   "metadata": {
    "tags": []
   },
   "source": [
    "### get_years: Extracts the years\n",
    "Similar to above cell script <br> \n",
    "for loop: collects the year from lines 0, blocklinelen, 2*blocklinelen, ... <br>\n",
    "\n",
    "# fill in the output in the help!!!! and possilby change the year order assert"
   ]
  },
  {
   "cell_type": "code",
   "execution_count": 52,
   "id": "31efb235-732d-47bd-9061-f8c484691ebe",
   "metadata": {
    "tags": []
   },
   "outputs": [],
   "source": [
    "def get_years(lines, blocklinelen):\n",
    "    \"\"\"Extracts the years from the lines at the blocklinelen multiple\n",
    "    Input   : lines is a list, in each element is a line in the text document\n",
    "            : blocklinelen is the number of lines in a year block in the text document\n",
    "    Output  : year is a 1-D array of the years\n",
    "    \"\"\"\n",
    "    assert type(lines)        == list, 'lines is not a list'\n",
    "    assert type(blocklinelen) == int , 'block line length is not an integer'\n",
    "    \n",
    "    linecount  = len(lines)\n",
    "    totalYears = int(linecount/blocklinelen)\n",
    "    \n",
    "    year = np.zeros(int(totalYears))\n",
    "    j=0\n",
    "    \n",
    "    for index, line in enumerate(lines, 0):\n",
    "        if (index % blocklinelen) == 0:\n",
    "            yearList = np.fromstring(lines[index], dtype=float, sep=' ')\n",
    "            year[j] = yearList[0]\n",
    "            j += 1\n",
    "            \n",
    "            if j>1:\n",
    "                assert year[j-1] >= year[j-2], 'Years is not in chronological order'\n",
    "        \n",
    "    if len(np.unique(np.diff(year, n=1))) > 1: \n",
    "        print('THE YEARS ARE NOT EQUALLY SPACED!!!')\n",
    "   \n",
    "    assert len(np.unique(year)) == totalYears , 'There are duplicate years'\n",
    "    \n",
    "    return year"
   ]
  },
  {
   "cell_type": "markdown",
   "id": "11203ec5",
   "metadata": {
    "tags": []
   },
   "source": [
    "### get_degree: Calculates the degree and order\n",
    "* Total Gauss Coefficients per year$ = 2l +1 $\n",
    "* While loop: subtracts from the total coefficients in an increasing order until zero"
   ]
  },
  {
   "cell_type": "code",
   "execution_count": 53,
   "id": "9c4e5385-21a9-4cf7-a0c2-60ad1d18f31c",
   "metadata": {
    "tags": []
   },
   "outputs": [],
   "source": [
    "def get_degree(eachLine):\n",
    "    \"\"\" Calculates the degree and order from the total element length of a year block\n",
    "    Input   : lines is a list, in each element is a line in the text document\n",
    "            : blocklinelen is the number of lines in a year block in the text document\n",
    "    Output  : l is the Gauss coefficient degree\n",
    "            : totalGC is the total number of coefficients per year\n",
    "    \"\"\"\n",
    "    \n",
    "    assert type(eachLine) == np.ndarray\n",
    "    \n",
    "    totalGC = int(sum(eachLine)-1)\n",
    "    countGC = totalGC\n",
    "    \n",
    "    l = 1\n",
    "    while countGC > 0:\n",
    "        countGC = countGC - (2*l+1)\n",
    "        l+=1\n",
    "    l = l-1\n",
    "    \n",
    "    assert countGC == 0, 'The number of cofficients does not equal 2l+1 amounts'\n",
    "    \n",
    "    print('Total coefficients per year:', totalGC)\n",
    "    print('The degree and order is', l)\n",
    "    \n",
    "    return l, totalGC"
   ]
  },
  {
   "cell_type": "markdown",
   "id": "371a13b7",
   "metadata": {
    "tags": []
   },
   "source": [
    "### Put together the matrix\n",
    "for loop: similar to the loops above but creates a 2-D array with every row containing on year of coefficients\n",
    "\n",
    "#### Example: new 2-D array of ggf100k\n",
    "year     $ \\quad g_{1}^{0} ... g_{4}^{3}  h_{4}^{3} g_{4}^{4} h_{4}^{4} ...  h_{10}^{10} \\quad $ 121 elements  <br>\n",
    "year+1  $ g_{1}^{0} ... g_{4}^{3} h_{4}^{3} g_{4}^{4} h_{4}^{4} ...  h_{10}^{10} \\quad $ 121 elements <br>\n",
    "\n"
   ]
  },
  {
   "cell_type": "code",
   "execution_count": 54,
   "id": "c21b09dd-0b7a-4c98-b265-5dc2d34b9373",
   "metadata": {
    "tags": []
   },
   "outputs": [],
   "source": [
    "def create_2Darray(lines, blocklinelen, totalGC, eachLine):\n",
    "    \"\"\"\n",
    "    Creates the 2D array\n",
    "    Input   : lines is a list, in each element is a line in the text document\n",
    "            : blocklinelen is the number of lines in a year block in the text document\n",
    "    Output  : coeff is the coefficients of the 2D array\n",
    "    \"\"\"\n",
    "    \n",
    "    assert type(lines)        == list, 'lines is not a list'\n",
    "    assert type(blocklinelen) == int , 'block line length is not an integer'\n",
    "    assert type(totalGC)      == int , 'totalGC is not an integer'\n",
    "     \n",
    "    coeff = np.zeros((int(len(lines)/blocklinelen), int(totalGC+1)))\n",
    "    row   = 0\n",
    "    j     = 0\n",
    "\n",
    "    for index, line in enumerate(lines, 0):\n",
    "        \n",
    "        yearList   = np.fromstring(lines[index], dtype=float, sep=' ')\n",
    "        elementLen = len(yearList)\n",
    "        \n",
    "        assert type(yearList) == np.ndarray, 'One row line is not an array'\n",
    "\n",
    "        if ((index % blocklinelen) == 0) and (index!=0):\n",
    "            row += 1\n",
    "            j    = 0\n",
    "            \n",
    "        if (index % blocklinelen) == 0:\n",
    "            col=0\n",
    "            coeff[row, col:elementLen] = yearList\n",
    "        else:\n",
    "            coeff[row, col:(elementLen+col)] = yearList\n",
    "            \n",
    "        col+=elementLen\n",
    "        \n",
    "        assert elementLen == eachLine[j], 'The length of the line is not the correct'\n",
    "        j+=1\n",
    "    \n",
    "    assert coeff.shape == (int(len(lines)/blocklinelen), int(totalGC+1))\n",
    "    \n",
    "    return coeff"
   ]
  },
  {
   "cell_type": "markdown",
   "id": "3b450b76-2741-4055-ba60-4bac9f853638",
   "metadata": {
    "tags": []
   },
   "source": [
    "### main function:\n",
    "Imports libraries\n",
    "Calls all functions as needed and in order"
   ]
  },
  {
   "cell_type": "code",
   "execution_count": null,
   "id": "93780453-4964-41e2-8272-0a03f8f1831f",
   "metadata": {},
   "outputs": [],
   "source": [
    "import numpy as np\n",
    "\n",
    "\n",
    "\n",
    "blocklinelen = 3\n",
    "document = 'testPass.txt'\n",
    "\n",
    "lines = get_lines(document)\n",
    "[linecount, eachLine] = get_eachline(lines, blocklinelen)\n",
    "year = get_years(lines, blocklinelen)\n",
    "l_degree, totalGC = get_degree(eachLine)\n",
    "coeff2D = create_2Darray(lines, blocklinelen, totalGC, eachLine)\n",
    "\n",
    "# print std, mean, min, max number of values \n",
    "\n",
    "# np.savetxt('ggf100k_test.txt', coeff)"
   ]
  },
  {
   "cell_type": "code",
   "execution_count": 55,
   "id": "a6cf26c1-f328-4620-a638-b26cbf054659",
   "metadata": {},
   "outputs": [
    {
     "name": "stdout",
     "output_type": "stream",
     "text": [
      "The total number of lines in the text document: 15\n",
      "The length of each line is: [16.  9. 11.]\n",
      "The total years: 5.0\n",
      "Total coefficients per year: 35\n",
      "The degree and order is 5\n"
     ]
    }
   ],
   "source": [
    "import numpy as np\n",
    "\n",
    "blocklinelen = 3\n",
    "document = 'testPass.txt'\n",
    "\n",
    "lines = get_lines(document)\n",
    "[linecount, eachLine] = get_eachline(lines, blocklinelen)\n",
    "year = get_years(lines, blocklinelen)\n",
    "l_degree, totalGC = get_degree(eachLine)\n",
    "coeff2D = create_2Darray(lines, blocklinelen, totalGC, eachLine)\n",
    "\n",
    "# print std, mean, min, max number of values \n",
    "\n",
    "# np.savetxt('ggf100k_test.txt', coeff)"
   ]
  },
  {
   "cell_type": "code",
   "execution_count": null,
   "id": "b5b057b2-8557-4fd0-9113-ff249af7acf7",
   "metadata": {},
   "outputs": [],
   "source": []
  }
 ],
 "metadata": {
  "kernelspec": {
   "display_name": "Python 3",
   "language": "python",
   "name": "python3"
  },
  "language_info": {
   "codemirror_mode": {
    "name": "ipython",
    "version": 3
   },
   "file_extension": ".py",
   "mimetype": "text/x-python",
   "name": "python",
   "nbconvert_exporter": "python",
   "pygments_lexer": "ipython3",
   "version": "3.8.8"
  }
 },
 "nbformat": 4,
 "nbformat_minor": 5
}
