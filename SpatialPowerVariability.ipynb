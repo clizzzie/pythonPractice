{
 "cells": [
  {
   "cell_type": "markdown",
   "source": [
    "# Spatial Power Variability\n",
    "\n",
    "## Goal:\n",
    "Create a function that takes in the degree and order of Gauss coefficients, time series matrix format (show example), calculates l values needed for spatial power variability and possibly plot spatial power variability\n",
    "\n",
    "### Spatial power variability equation:\n",
    "\n",
    "$ R_{l}\\left( t\\right) =\\left( l+1\\right) \\sum ^{l}_{m=0}\\left\\{ \\left[ g_{l}^{m}\\left( t\\right) \\right] ^{2}+\\left[ h_{l}^{m}\\left( t\\right) \\right] ^{2}\\right\\} $\n",
    "\n",
    "## Tests:\n",
    "* Ratio of power between l values\n",
    "* Summation gets larger with increasing l\n",
    "* Time series all the same length"
   ],
   "metadata": {}
  },
  {
   "cell_type": "code",
   "execution_count": 2,
   "source": [
    "import numpy as np\n",
    "import matplotlib as mpl\n",
    "import matplotlib.pyplot as plt\n",
    "import json\n",
    "\n",
    "# Personal modules:\n",
    "import dictionary_str2array as dictionary_str2array\n",
    "from Array2D_to_dictionary import get_degree\n",
    "\n",
    "with open('testRunAgain.json') as file:\n",
    "    diction_str = json.load(file)\n",
    "\n",
    "# Convert dictionary string to array\n",
    "diction_array = dictionary_str2array.main(diction_str)\n",
    "# get dictionary keys as a list\n",
    "# dict_keys = list(dict.keys(diction_array))\n",
    "degree = get_degree(len(diction_array)-1)\n"
   ],
   "outputs": [
    {
     "output_type": "stream",
     "name": "stdout",
     "text": [
      "The degree and order is 3\n"
     ]
    }
   ],
   "metadata": {}
  },
  {
   "cell_type": "markdown",
   "source": [
    "### Create a dictionary or list of Gauss coefficients from degree and order\n",
    "* Matrix needs to include year as columns\n",
    "* Coefficients need to be a row with associated year\n",
    "* Put example of format"
   ],
   "metadata": {}
  },
  {
   "cell_type": "code",
   "execution_count": null,
   "source": [
    "# Calculates the number of coefficients per year\n",
    "degree = 10\n",
    "\n",
    "totalGC=0\n",
    "for index in range(1, degree+1):\n",
    "    totalGC+= 2*index+1\n",
    "    # print(totalGC)\n",
    "assert index == degree"
   ],
   "outputs": [],
   "metadata": {}
  },
  {
   "cell_type": "markdown",
   "source": [
    "### Spatial power variability equation:\n",
    "\n",
    "$ R_{l}\\left( t\\right) =\\left( l+1\\right) \\sum ^{l}_{m=0}\\left\\{ \\left[ g_{l}^{m}\\left( t\\right) \\right] ^{2}+\\left[ h_{l}^{m}\\left( t\\right) \\right] ^{2}\\right\\} $"
   ],
   "metadata": {}
  },
  {
   "cell_type": "code",
   "execution_count": null,
   "source": [
    "# Within the dictionary, find the degree, l, values needed for\n",
    "# spatial power variability equation, put another assert for l that might be out of bounds\n",
    "\n",
    "def get_l_from_GClist(GClist, l):\n",
    "    \"\"\"Returns a list with each element having the coefficient as a string\n",
    "    input: GClist should be a list of all the coefficient representing the\n",
    "    location in a matrix format.\n",
    "    l should be the degree\n",
    "    \"\"\"\n",
    "    \n",
    "    lforR=[]\n",
    "    for index in GClist:\n",
    "        underScore = index.find('_')\n",
    "        if index[1:underScore] == str(l):        \n",
    "            lforR.append(index)    \n",
    "    \n",
    "    assert len(lforR) == (2*l+1), \"The length of the list is the wrong size\"\n",
    "    return lforR"
   ],
   "outputs": [],
   "metadata": {}
  },
  {
   "cell_type": "code",
   "execution_count": null,
   "source": [
    "R_1list = get_l_from_GClist(GClist, 1)\n",
    "R_2list = get_l_from_GClist(GClist, 2)\n",
    "R_3list = get_l_from_GClist(GClist, 3)\n",
    "R_4list = get_l_from_GClist(GClist, 4)\n",
    "R_5list = get_l_from_GClist(GClist, 5)"
   ],
   "outputs": [],
   "metadata": {}
  },
  {
   "cell_type": "code",
   "execution_count": null,
   "source": [
    "# Calculate the R_1, make another function/def\n",
    "l = 1\n",
    "R_1 = np.zeros(100041)\n",
    "for index in R_1list:\n",
    "    R_1 = R_1+np.square(GC[index])\n",
    "    # can put assert\n",
    "R_1 = (l+1)*R_1\n",
    "R1 = np.array([R_1])\n",
    "R1 = R1.T\n",
    "\n",
    "l = 2\n",
    "R_2 = np.zeros(100041)\n",
    "for index in R_2list:\n",
    "    R_2 = R_2+np.square(GC[index])\n",
    "R_2 = (l+1)*R_2\n",
    "R2 = np.array([R_2])\n",
    "R2 = R2.T\n",
    "\n",
    "l = 3\n",
    "R_3 = np.zeros(100041)\n",
    "for index in R_3list:\n",
    "    R_3 = R_3+np.square(GC[index])\n",
    "R_3 = (l+1)*R_3\n",
    "R3 = np.array([R_3])\n",
    "R3 = R3.T\n",
    "\n",
    "l = 4\n",
    "R_4 = np.zeros(100041)\n",
    "for index in R_4list:\n",
    "    R_4 = R_4+np.square(GC[index])\n",
    "R_4 = (l+1)*R_4\n",
    "R4 = np.array([R_4])\n",
    "R4 = R4.T\n",
    "\n",
    "l = 5\n",
    "R_5 = np.zeros(100041)\n",
    "for index in R_5list:\n",
    "    R_5 = R_5+np.square(GC[index])\n",
    "R_5 = (l+1)*R_5\n",
    "R5 = np.array([R_5])\n",
    "R5 = R5.T\n"
   ],
   "outputs": [],
   "metadata": {}
  },
  {
   "cell_type": "code",
   "execution_count": null,
   "source": [
    "fig = plt.figure()\n",
    "R_1_plot = plt.plot(GC['year'], R1)\n",
    "R_2_plot = plt.plot(GC['year'], R2)\n",
    "R_3_plot = plt.plot(GC['year'], R3)\n",
    "R_4_plot = plt.plot(GC['year'], R4)\n",
    "R_5_plot = plt.plot(GC['year'], R5)\n"
   ],
   "outputs": [],
   "metadata": {}
  },
  {
   "cell_type": "code",
   "execution_count": null,
   "source": [
    "\n",
    "np.savetxt('R1_ggf100k.txt', R1)\n",
    "np.savetxt('R2_ggf100k.txt', R2)\n",
    "np.savetxt('R3_ggf100k.txt', R3)\n",
    "np.savetxt('R4_ggf100k.txt', R4)\n",
    "np.savetxt('R_5ggf100k.txt', R5)"
   ],
   "outputs": [],
   "metadata": {}
  }
 ],
 "metadata": {
  "kernelspec": {
   "name": "python3",
   "display_name": "Python 3.8.8 64-bit ('base': conda)"
  },
  "language_info": {
   "codemirror_mode": {
    "name": "ipython",
    "version": 3
   },
   "file_extension": ".py",
   "mimetype": "text/x-python",
   "name": "python",
   "nbconvert_exporter": "python",
   "pygments_lexer": "ipython3",
   "version": "3.8.8"
  },
  "interpreter": {
   "hash": "25fdbbd1767db64280408ae592d559f5899253d01d0fd5d5ce502e2a945d34ce"
  }
 },
 "nbformat": 4,
 "nbformat_minor": 5
}