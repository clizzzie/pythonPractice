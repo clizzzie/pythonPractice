{
 "cells": [
  {
   "cell_type": "markdown",
   "source": [
    "# Spatial Power Variability\n",
    "\n",
    "## Goal:\n",
    "Create a module that takes a dictionary with coefficients as keys ('g1_0', 'g1_1', 'h1_1',...) and degree and calculates desired spatial power variability time series.\n",
    "\n",
    "### Spatial power variability equation:\n",
    "\n",
    "$ R_{l}\\left( t\\right) =\\left( l+1\\right) \\sum ^{l}_{m=0}\\left\\{ \\left[ g_{l}^{m}\\left( t\\right) \\right] ^{2}+\\left[ h_{l}^{m}\\left( t\\right) \\right] ^{2}\\right\\} $"
   ],
   "metadata": {}
  },
  {
   "cell_type": "markdown",
   "source": [
    "### get_l_from_GClist(GClist, l)\n",
    "Uses GClist to extract the l's from the dictionary keys"
   ],
   "metadata": {}
  },
  {
   "cell_type": "code",
   "execution_count": 4,
   "source": [
    "def get_l_from_GClist(GClist, l):\n",
    "    \"\"\"Gets the string elements for specific degree order\n",
    "    Input   : GClist should be a list containing all the dictionary keys\n",
    "    Input   : l is the desired degree\n",
    "    Output  : lforR is a list that contains only the dictionary keys with the degree\n",
    "    \"\"\"\n",
    "\n",
    "    assert type(GClist) == list , 'GClist is not a list'\n",
    "    assert type(l)      == int  , 'l is not an integer'\n",
    "    \n",
    "    lforR=[]\n",
    "    for index in GClist:\n",
    "        underScore = index.find('_')\n",
    "        if index[1:underScore] == str(l):        \n",
    "            lforR.append(index)    \n",
    "    \n",
    "    assert len(lforR) == (2*l+1), \"The length of the list is the wrong size\"\n",
    "    \n",
    "    return lforR"
   ],
   "outputs": [],
   "metadata": {}
  },
  {
   "cell_type": "markdown",
   "source": [
    "### calculate_R: calculates the spatial power variability\n",
    "#### Spatial power variability equation:\n",
    "\n",
    "$ R_{l}\\left( t\\right) =\\left( l+1\\right) \\sum ^{l}_{m=0}\\left\\{ \\left[ g_{l}^{m}\\left( t\\right) \\right] ^{2}+\\left[ h_{l}^{m}\\left( t\\right) \\right] ^{2}\\right\\} $"
   ],
   "metadata": {}
  },
  {
   "cell_type": "code",
   "execution_count": 5,
   "source": [
    "def calculate_R(diction_array, list_lforR, needed_l):\n",
    "    \"\"\"Calculates the spatial power variability for a single degree\n",
    "    Input   : diction_array is the dictionary that contains the coefficients in ndarray format\n",
    "    Input   : list_lforR is the list that contains the strings that call the diction_array\n",
    "    Output  : R is the spatial power variability for a single degree in column form\n",
    "    \"\"\"\n",
    "\n",
    "    assert type(diction_array)  == dict, 'diction_array is not a dictionary'\n",
    "    assert type(list_lforR)     == list, 'list_lforR is not a list'\n",
    "    \n",
    "    arrayLen = len(diction_array['year'])\n",
    "\n",
    "    R = np.zeros(arrayLen)\n",
    "    for index in list_lforR:\n",
    "        \n",
    "        assert type(diction_array[index]) == np.ndarray, 'Dictionary element is not an array'\n",
    "        assert len(diction_array[index])  == arrayLen  , 'Array length is not the right size'\n",
    " \n",
    "        R += np.square(diction_array[index])\n",
    "    \n",
    "    R = (needed_l+1)*R\n",
    "    R = (np.array([R])).T\n",
    "\n",
    "    return R"
   ],
   "outputs": [],
   "metadata": {}
  },
  {
   "cell_type": "markdown",
   "source": [
    "### main(dictionary_array, needed_l): calculates spatial power variability\n",
    "First creates a list of keys to be used to collect the desired coefficients from the dictionary and then calculates the $R_l (t)$"
   ],
   "metadata": {}
  },
  {
   "cell_type": "code",
   "execution_count": 6,
   "source": [
    "import numpy as np\n",
    "import json\n",
    "\n",
    "# Personal modules:\n",
    "import dictionary_str2array as dictionary_str2array\n",
    "from Array2D_to_dictionary import get_degree\n",
    "\n",
    "def main(dictionary_array, needed_l):\n",
    "    \"\"\"Calculates the spatial power variability\n",
    "    Input   : dictionary_array\n",
    "    Input   : needed_l\n",
    "    Output  : R \n",
    "    \"\"\"\n",
    "\n",
    "    assert type(diction_array) == dict, 'dictionary_array is not a dictionary'\n",
    "    assert type(needed_l)      == int , 'needed_l is not an integer'\n",
    "    assert needed_l > 0               , 'needed_l is not greater than zero'\n",
    "\n",
    "    # get degree and order\n",
    "    degreeAndOrder = get_degree(len(dictionary_array)-1)\n",
    "    \n",
    "    assert needed_l <= degreeAndOrder, 'needed_l is greater than degree and order of dictionary' \n",
    "\n",
    "    # convert dictionary keys as a list\n",
    "    GClist         = list(dict.keys(dictionary_array))\n",
    "\n",
    "    # get the keys for the dictionary for a specific degree\n",
    "    lforR_list     = get_l_from_GClist(GClist, needed_l)\n",
    "\n",
    "    # calculate spatial power variablility \n",
    "    R              = calculate_R(dictionary_array, lforR_list, needed_l)\n",
    "\n",
    "    return R"
   ],
   "outputs": [],
   "metadata": {}
  },
  {
   "cell_type": "code",
   "execution_count": 7,
   "source": [
    "\n",
    "# Below is not needed for .py\n",
    "# Should be in the calling script\n",
    "needed_l = 1\n",
    "\n",
    "with open('testRunAgain.json') as file:\n",
    "    diction_str = json.load(file)\n",
    "\n",
    "# Convert dictionary string to array\n",
    "diction_array = dictionary_str2array.main(diction_str)\n",
    "\n",
    "R_1 = main(diction_array, needed_l)"
   ],
   "outputs": [
    {
     "output_type": "stream",
     "name": "stdout",
     "text": [
      "The degree and order is 3\n"
     ]
    }
   ],
   "metadata": {}
  }
 ],
 "metadata": {
  "kernelspec": {
   "name": "python3",
   "display_name": "Python 3.8.8 64-bit ('base': conda)"
  },
  "language_info": {
   "codemirror_mode": {
    "name": "ipython",
    "version": 3
   },
   "file_extension": ".py",
   "mimetype": "text/x-python",
   "name": "python",
   "nbconvert_exporter": "python",
   "pygments_lexer": "ipython3",
   "version": "3.8.8"
  },
  "interpreter": {
   "hash": "25fdbbd1767db64280408ae592d559f5899253d01d0fd5d5ce502e2a945d34ce"
  }
 },
 "nbformat": 4,
 "nbformat_minor": 5
}