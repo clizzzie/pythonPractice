{
 "cells": [
  {
   "cell_type": "markdown",
   "id": "32810cd0",
   "metadata": {},
   "source": [
    "# Spatial Power Variability\n",
    "\n",
    "## Goal:\n",
    "Create a function that takes in the degree and order of Gauss coefficients, time series matrix format (show example), calculates l values needed for spatial power variability and possibly plot spatial power variability\n",
    "\n",
    "### Spatial power variability equation:\n",
    "\n",
    "$ R_{l}\\left( t\\right) =\\left( l+1\\right) \\sum ^{l}_{m=0}\\left\\{ \\left[ g_{l}^{m}\\left( t\\right) \\right] ^{2}+\\left[ h_{l}^{m}\\left( t\\right) \\right] ^{2}\\right\\} $\n",
    "\n",
    "## Tests:\n",
    "* Ratio of power between l values\n",
    "* Summation gets larger with increasing l\n",
    "* Time series all the same length"
   ]
  },
  {
   "cell_type": "code",
   "execution_count": 1,
   "id": "548eb437",
   "metadata": {},
   "outputs": [
    {
     "name": "stdout",
     "output_type": "stream",
     "text": [
      "--- 8.624871969223022 seconds ---\n"
     ]
    }
   ],
   "source": [
    "import numpy as np\n",
    "import time\n",
    "import matplotlib as mpl\n",
    "import matplotlib.pyplot as plt\n",
    "\n",
    "start_time1 =time.time()\n",
    "GCtxt = np.loadtxt('ggf100k_matrixFormatTest.txt')\n",
    "print(\"--- %s seconds ---\" % (time.time() - start_time1))"
   ]
  },
  {
   "cell_type": "markdown",
   "id": "8d4cc776",
   "metadata": {},
   "source": [
    "### Create a dictionary or list of Gauss coefficients from degree and order\n",
    "* Matrix needs to include year as columns\n",
    "* Coefficients need to be a row with associated year\n",
    "* Put example of format"
   ]
  },
  {
   "cell_type": "code",
   "execution_count": 2,
   "id": "14060036",
   "metadata": {},
   "outputs": [],
   "source": [
    "# Calculate the number of coefficients per year\n",
    "degree = 10\n",
    "\n",
    "totalGC=0\n",
    "for index in range(1, degree+1):\n",
    "    totalGC+= 2*index+1\n",
    "    # print(totalGC)\n",
    "assert index == degree"
   ]
  },
  {
   "cell_type": "code",
   "execution_count": 3,
   "id": "f2c7651b",
   "metadata": {},
   "outputs": [],
   "source": [
    "# Create dictionary of Gauss coefficients, eventually make a def/ function\n",
    "\n",
    "GClist=['year']\n",
    "j=0\n",
    "for index in range(1, degree+1):     # index is degree, l\n",
    "    degreeLen = 2*index+1\n",
    "    m = 0\n",
    "    for minutes in range(0, degreeLen):\n",
    "        if minutes==0:\n",
    "            placement= 'g'     \n",
    "        elif minutes==1:\n",
    "            placement= 'g'\n",
    "            m+=1\n",
    "        elif ((minutes%2)==0):\n",
    "            placement = 'h'    \n",
    "        else:\n",
    "            placement = 'g'\n",
    "            m+=1\n",
    "        j+=1\n",
    "        # GC[placement+str(index)+'_'+str(m)] = GCtxt[:,j]\n",
    "        GClist.append(placement+str(index)+'_'+str(m))\n",
    "\n",
    "assert len(GClist)==totalGC+1\n",
    "\n",
    "# Create dictionary\n",
    "\n",
    "GC = {\n",
    "    \"year\" : GCtxt[:,0]\n",
    "}\n",
    "for index in range(0,totalGC+1):\n",
    "    GC[GClist[index]] = GCtxt[:,index]\n",
    "assert len(GC) == totalGC+1\n",
    "assert sum(np.diff(GC['year'], n=2)) == 0, 'The years are not equally spaced'\n"
   ]
  },
  {
   "cell_type": "markdown",
   "id": "e64f0c31",
   "metadata": {},
   "source": [
    "### Spatial power variability equation:\n",
    "\n",
    "$ R_{l}\\left( t\\right) =\\left( l+1\\right) \\sum ^{l}_{m=0}\\left\\{ \\left[ g_{l}^{m}\\left( t\\right) \\right] ^{2}+\\left[ h_{l}^{m}\\left( t\\right) \\right] ^{2}\\right\\} $"
   ]
  },
  {
   "cell_type": "code",
   "execution_count": 4,
   "id": "9a6e6240-5c2a-4314-a36c-a72456aba3d2",
   "metadata": {},
   "outputs": [],
   "source": [
    "# Within the dictionary, find the degree, l, values needed for\n",
    "# spatial power variability equation, put another assert for l that might be out of bounds\n",
    "\n",
    "def get_l_from_GClist(GClist, l):\n",
    "    \"\"\"Returns a list with each element having the coefficient as a string\n",
    "    input: GClist should be a list of all the coefficient representing the\n",
    "    location in a matrix format.\n",
    "    l should be the degree wanting\n",
    "    \"\"\"\n",
    "    \n",
    "    lforR=[]\n",
    "    for index in GClist:\n",
    "        underScore = index.find('_')\n",
    "        if index[1:underScore] == str(l):        \n",
    "            lforR.append(index)    \n",
    "    \n",
    "    assert len(lforR) == (2*l+1), \"The length of the list is the wrong size\"\n",
    "    return lforR"
   ]
  },
  {
   "cell_type": "code",
   "execution_count": 5,
   "id": "352ff1bc",
   "metadata": {},
   "outputs": [],
   "source": [
    "R_1list = get_l_from_GClist(GClist, 1)\n",
    "R_2list = get_l_from_GClist(GClist, 2)\n",
    "R_3list = get_l_from_GClist(GClist, 3)\n",
    "R_4list = get_l_from_GClist(GClist, 4)\n",
    "R_5list = get_l_from_GClist(GClist, 5)"
   ]
  },
  {
   "cell_type": "code",
   "execution_count": 6,
   "id": "f7c85fd6-fdd2-4ce8-a067-b8719fc9be50",
   "metadata": {},
   "outputs": [],
   "source": [
    "# Calculate the R_1, make another function/def\n",
    "l = 1\n",
    "R_1 = np.zeros(100041)\n",
    "for index in R_1list:\n",
    "    R_1 = R_1+np.square(GC[index])\n",
    "    # can put assert\n",
    "R_1 = (l+1)*R_1\n",
    "R1 = np.array([R_1])\n",
    "R1 = R1.T\n",
    "\n",
    "l = 2\n",
    "R_2 = np.zeros(100041)\n",
    "for index in R_2list:\n",
    "    R_2 = R_2+np.square(GC[index])\n",
    "R_2 = (l+1)*R_2\n",
    "R2 = np.array([R_2])\n",
    "R2 = R2.T\n",
    "\n",
    "l = 3\n",
    "R_3 = np.zeros(100041)\n",
    "for index in R_3list:\n",
    "    R_3 = R_3+np.square(GC[index])\n",
    "R_3 = (l+1)*R_3\n",
    "R3 = np.array([R_3])\n",
    "R3 = R3.T\n",
    "\n",
    "l = 4\n",
    "R_4 = np.zeros(100041)\n",
    "for index in R_4list:\n",
    "    R_4 = R_4+np.square(GC[index])\n",
    "R_4 = (l+1)*R_4\n",
    "R4 = np.array([R_4])\n",
    "R4 = R4.T\n",
    "\n",
    "l = 5\n",
    "R_5 = np.zeros(100041)\n",
    "for index in R_5list:\n",
    "    R_5 = R_5+np.square(GC[index])\n",
    "R_5 = (l+1)*R_5\n",
    "R5 = np.array([R_5])\n",
    "R5 = R5.T\n"
   ]
  },
  {
   "cell_type": "code",
   "execution_count": 8,
   "id": "03322213-4ead-4ef9-b467-1ba477d7ba94",
   "metadata": {},
   "outputs": [
    {
     "name": "stdout",
     "output_type": "stream",
     "text": [
      "(100041, 1)\n",
      "(100041,)\n"
     ]
    }
   ],
   "source": [
    "print(R5.shape)\n",
    "print(R_2.shape)"
   ]
  },
  {
   "cell_type": "code",
   "execution_count": 9,
   "id": "7f72b873",
   "metadata": {},
   "outputs": [
    {
     "data": {
      "image/png": "[encoded data removed]",
      "text/plain": [
       "<Figure size 432x288 with 1 Axes>"
      ]
     },
     "metadata": {
      "needs_background": "light"
     },
     "output_type": "display_data"
    }
   ],
   "source": [
    "fig = plt.figure()\n",
    "R_1_plot = plt.plot(GC['year'], R1)\n",
    "R_2_plot = plt.plot(GC['year'], R2)\n",
    "R_3_plot = plt.plot(GC['year'], R3)\n",
    "R_4_plot = plt.plot(GC['year'], R4)\n",
    "R_5_plot = plt.plot(GC['year'], R5)\n"
   ]
  },
  {
   "cell_type": "code",
   "execution_count": 10,
   "id": "ae7830b2",
   "metadata": {},
   "outputs": [],
   "source": [
    "\n",
    "np.savetxt('R1_ggf100k.txt', R1)\n",
    "np.savetxt('R2_ggf100k.txt', R2)\n",
    "np.savetxt('R3_ggf100k.txt', R3)\n",
    "np.savetxt('R4_ggf100k.txt', R4)\n",
    "np.savetxt('R_5ggf100k.txt', R5)"
   ]
  },
  {
   "cell_type": "code",
   "execution_count": null,
   "id": "97f05650-55df-47fe-8755-f050e56b49d9",
   "metadata": {},
   "outputs": [],
   "source": []
  },
  {
   "cell_type": "code",
   "execution_count": null,
   "id": "6cd5e53e-a967-4ad5-835e-bd8c0a9d8234",
   "metadata": {},
   "outputs": [],
   "source": []
  }
 ],
 "metadata": {
  "kernelspec": {
   "display_name": "Python 3",
   "language": "python",
   "name": "python3"
  },
  "language_info": {
   "codemirror_mode": {
    "name": "ipython",
    "version": 3
   },
   "file_extension": ".py",
   "mimetype": "text/x-python",
   "name": "python",
   "nbconvert_exporter": "python",
   "pygments_lexer": "ipython3",
   "version": "3.8.8"
  }
 },
 "nbformat": 4,
 "nbformat_minor": 5
}
