{
 "cells": [
  {
   "cell_type": "markdown",
   "source": [
    "# 2D_to_dictionary\n",
    "\n",
    "## Goal:\n",
    "Create a function that takes in a 2D array (example below) and creates a new dictionary with Gauss coefficient as keys.\n",
    "\n",
    "## Test:\n",
    "* Each element in the dictionary needs to be the same size\n",
    "* The number of elements in the dictionary needs to be equal to the total Gauss coefficients plus one (for the year)\n",
    "\n",
    "#### Example: 2-D array of ggf100k\n",
    "year     $ \\quad g_{1}^{0} ... g_{4}^{3}  h_{4}^{3} g_{4}^{4} h_{4}^{4} ...  h_{10}^{10} \\quad $ 121 elements  <br>\n",
    "year+1  $ g_{1}^{0} ... g_{4}^{3} h_{4}^{3} g_{4}^{4} h_{4}^{4} ...  h_{10}^{10} \\quad $ 121 elements <br>\n",
    "\n",
    "#### Example: Dictionary of ggf100k\n",
    "GaussCoeff = ['year', 'g1_0','g1_1', 'h1_1',..., 'h10_10']"
   ],
   "metadata": {}
  },
  {
   "cell_type": "markdown",
   "source": [
    "### get_degree: Calculates the degree and order\n",
    "* Total Gauss Coefficients per year $=2l +1 $\n",
    "* While loop: subtracts from the total coefficients in an increasing order until zero"
   ],
   "metadata": {}
  },
  {
   "cell_type": "code",
   "execution_count": 6,
   "source": [
    "def get_degree(totalGC):\n",
    "    \"\"\" Calculates the degree and order from the total number of Gauss coefficients\n",
    "    Input   : totalGC is the total number of coefficients per year\n",
    "    Output  : l is the Gauss coefficient degree\n",
    "    \"\"\"\n",
    "    \n",
    "    assert type(totalGC) == int\n",
    "    \n",
    "    countGC = totalGC\n",
    "    l       = 1\n",
    "    while countGC > 0:\n",
    "        countGC = countGC - (2*l+1)\n",
    "        l       +=1\n",
    "    l       = l-1\n",
    "    \n",
    "    assert countGC == 0, 'The number of cofficients does not equal 2l+1 amounts'\n",
    "    print('The degree and order is' , l )\n",
    "    \n",
    "    return l"
   ],
   "outputs": [],
   "metadata": {}
  },
  {
   "cell_type": "markdown",
   "source": [
    "### get_GClist: Create Gauss coefficient list with elements as key strings\n",
    "* The first for loop goes through each l degree\n",
    "* The second loop within the first loop creates each m values for each g and h"
   ],
   "metadata": {}
  },
  {
   "cell_type": "code",
   "execution_count": 7,
   "source": [
    "def get_GClist(degree, totalGC):\n",
    "    \"\"\"Creates a list of Gauss coefficients labels for the dictionary.\n",
    "    Input   : degree\n",
    "            : totalGC is the total number of coefficients\n",
    "    Output  : GClist is the list of coefficients in order as strings\n",
    "    \"\"\"\n",
    "\n",
    "    assert (type(degree) and type(totalGC)) == int, 'Inputs are not integers'\n",
    "\n",
    "    GClist = ['year']\n",
    "    j      = 0\n",
    "    for index in range(1, degree+1):\n",
    "        degreeLen = 2*index+1\n",
    "        m         = 0\n",
    "\n",
    "        for minutes in range(0, degreeLen):\n",
    "            if minutes       == 0:\n",
    "                placement = 'g'     \n",
    "            elif minutes     == 1:\n",
    "                placement = 'g'\n",
    "                m += 1\n",
    "            elif (minutes%2) == 0:\n",
    "                placement = 'h'    \n",
    "            else:\n",
    "                placement = 'g'\n",
    "                m += 1\n",
    "            j += 1\n",
    "            \n",
    "            GClist.append(placement+str(index)+'_'+str(m))\n",
    "\n",
    "    assert len(GClist) == totalGC+1\n",
    "    return GClist"
   ],
   "outputs": [],
   "metadata": {}
  },
  {
   "cell_type": "markdown",
   "source": [
    "### get_dictionary: creates the dictionary\n",
    "* The GClist has the labels for the keys that are in the correct order\n",
    "* The dictionary is filled in with the columns from the 2D array of coefficients"
   ],
   "metadata": {}
  },
  {
   "cell_type": "code",
   "execution_count": 8,
   "source": [
    "def get_dictionary(GCtxt, GClist):\n",
    "    \"\"\"Creates a dictionary from the GClist keys and fills in the column from the 2D array\n",
    "    Input   : GCtxt is the Gauss coefficients\n",
    "            : GClist is the list of labels for the coefficients\n",
    "    Output  : GCdict is the Gauss coefficients dictionary\n",
    "    \"\"\"\n",
    "\n",
    "    assert type(GCtxt)   == np.ndarray\n",
    "    assert type(GClist)  == list\n",
    "\n",
    "    yearCount, numOfCols = GCtxt.shape\n",
    "    totalGC              = numOfCols-1\n",
    "\n",
    "    GCdict = {\"year\" : GCtxt[:,0]}\n",
    "    for index in range(0, totalGC+1):\n",
    "        GCdict[GClist[index]] = GCtxt[: , index]\n",
    "\n",
    "    assert len(GCdict)                    == totalGC+1, 'The dictionary is not the size of the number of coefficients'\n",
    "    assert len(np.unique(GCdict['year'])) == yearCount, 'There are duplicate years'    \n",
    "    \n",
    "    if len(np.unique(np.diff(GCdict['year'], n=1))) > 1:\n",
    "        print('Years are not equally spaced')\n",
    "    \n",
    "    return GCdict "
   ],
   "outputs": [],
   "metadata": {}
  },
  {
   "cell_type": "code",
   "execution_count": 9,
   "source": [
    "def print_stats(GCdict):\n",
    "    \"\"\"Prints the standard deviation, mean, mininimum, and maximum of\n",
    "       g1_0, g1_1, and h1_1.\n",
    "    Input   : GCdict is a dictionary of the Gauss coefficients\n",
    "    Output  : printed lines with statistics\n",
    "    \"\"\"\n",
    "    print('g1_0 min:',np.min(GCdict['g1_0']),'mean:',np.mean(GCdict['g1_0']),'max:',np.max(GCdict['g1_0']),'std:',np.std(GCdict['g1_0']))\n",
    "    print('g1_1 min:',np.min(GCdict['g1_1']),'mean:',np.mean(GCdict['g1_1']),'max:',np.max(GCdict['g1_1']),'std:',np.std(GCdict['g1_1']))\n",
    "    print('h1_1 min:',np.min(GCdict['h1_1']),'mean:',np.mean(GCdict['h1_1']),'max:',np.max(GCdict['h1_1']),'std:',np.std(GCdict['h1_1']))"
   ],
   "outputs": [],
   "metadata": {}
  },
  {
   "cell_type": "markdown",
   "source": [
    "## main def\n",
    "* Input degrees?"
   ],
   "metadata": {}
  },
  {
   "cell_type": "code",
   "execution_count": 10,
   "source": [
    "import numpy as np\n",
    "\n",
    "def main():\n",
    "\n",
    "    GCtxt                = np.loadtxt('dictTest.txt')\n",
    "    yearCount, numOfCols = GCtxt.shape\n",
    "    totalGC              = numOfCols-1\n",
    "\n",
    "    # totalGC = get_totalGC(GCtxt)            # I fucked up, I fucked up BAD!!!\n",
    "\n",
    "    degree = get_degree(totalGC)\n",
    "    GClist = get_GClist(degree, totalGC)\n",
    "    GCdict = get_dictionary(GCtxt, GClist)\n",
    "    print_stats(GCdict)\n",
    "\n",
    "    return yearCount, totalGC, GCtxt, degree, GClist, GCdict\n",
    "\n",
    "yearCount, totalGC, GCtxt, degree, GClist, GCdict = main()"
   ],
   "outputs": [
    {
     "output_type": "stream",
     "name": "stdout",
     "text": [
      "The degree and order is 3\n",
      "g1_0 min: 1.0 mean: 1.0 max: 1.0 std: 0.0\n",
      "g1_1 min: 2.0 mean: 2.0 max: 2.0 std: 0.0\n",
      "h1_1 min: 3.0 mean: 3.0 max: 3.0 std: 0.0\n"
     ]
    }
   ],
   "metadata": {}
  }
 ],
 "metadata": {
  "kernelspec": {
   "name": "python3",
   "display_name": "Python 3.8.8 64-bit ('base': conda)"
  },
  "language_info": {
   "codemirror_mode": {
    "name": "ipython",
    "version": 3
   },
   "file_extension": ".py",
   "mimetype": "text/x-python",
   "name": "python",
   "nbconvert_exporter": "python",
   "pygments_lexer": "ipython3",
   "version": "3.8.8"
  },
  "interpreter": {
   "hash": "25fdbbd1767db64280408ae592d559f5899253d01d0fd5d5ce502e2a945d34ce"
  }
 },
 "nbformat": 4,
 "nbformat_minor": 5
}