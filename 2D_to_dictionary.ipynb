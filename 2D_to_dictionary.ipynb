{
 "cells": [
  {
   "cell_type": "markdown",
   "source": [
    "# 2D_to_dictionary\n",
    "\n",
    "## Goal:\n",
    "Create a function that takes in a 2D array (example below) and creates a new dictionary with Gauss coefficient as keys.\n",
    "\n",
    "## Test:\n",
    "* Each element in the dictionary needs to be the same size\n",
    "* The number of elements in the dictionary needs to be equal to the total Gauss coefficients plus one (for the year)\n",
    "\n",
    "#### Example: 2-D array of ggf100k\n",
    "year     $ \\quad g_{1}^{0} ... g_{4}^{3}  h_{4}^{3} g_{4}^{4} h_{4}^{4} ...  h_{10}^{10} \\quad $ 121 elements  <br>\n",
    "year+1  $ g_{1}^{0} ... g_{4}^{3} h_{4}^{3} g_{4}^{4} h_{4}^{4} ...  h_{10}^{10} \\quad $ 121 elements <br>\n",
    "\n",
    "#### Example: Dictionary of ggf100k\n",
    "GaussCoeff = ['year', 'g1_0','g1_1', 'h1_1',..., 'h10_10']\n",
    "\n",
    "### Create a dictionary or list of Gauss coefficients from degree and order\n",
    "* Matrix needs to include year as columns\n",
    "* Coefficients need to be a row with associated year\n",
    "* Put example of format"
   ],
   "metadata": {}
  },
  {
   "cell_type": "markdown",
   "source": [
    "### get_totalGC: Calculate the total number of coefficients per year\n",
    "* Each degree is calculated with $2l+1$\n",
    "* The total number of Gauss coefficients is the sum of all degrees and orders"
   ],
   "metadata": {}
  },
  {
   "cell_type": "code",
   "execution_count": 1,
   "source": [
    "def get_totalGC(Document):\n",
    "    \"\"\"Calculates the total number of Gauss coefficients. The total number of coefficients\n",
    "    is the sum of all degree and orders with 2l+1\n",
    "    Input   : degree is the degree and order\n",
    "    Output  : totalGC is the total number of Gauss coefficients \n",
    "    \"\"\"\n",
    "    \n",
    "    years, GCtotal = GCtxt.shape\n",
    "\n",
    "    totalGC = 0\n",
    "    for index in range(1,degree+1):\n",
    "        totalGC += 2*index+1\n",
    "    \n",
    "    return totalGC"
   ],
   "outputs": [],
   "metadata": {}
  },
  {
   "cell_type": "code",
   "execution_count": null,
   "source": [
    "\n",
    "\n",
    "    assert type(eachLine) == np.ndarray\n",
    "    \n",
    "    totalGC = int(sum(eachLine)-1)\n",
    "    countGC = totalGC\n",
    "    \n",
    "    l = 1\n",
    "    while countGC > 0:\n",
    "        countGC = countGC - (2*l+1)\n",
    "        l       +=1\n",
    "    l = l-1\n",
    "    \n",
    "    assert countGC == 0, 'The number of cofficients does not equal 2l+1 amounts'\n",
    "    \n",
    "    print('Total coefficients per year:', totalGC)\n",
    "    print('The degree and order is'     , l      )\n",
    "    \n",
    "    return l, totalGC"
   ],
   "outputs": [],
   "metadata": {}
  },
  {
   "cell_type": "markdown",
   "source": [
    "### get_GClist: Create Gauss coefficient list with elements as key strings\n",
    "* The first for loop goes through each l degree\n",
    "* The second loop within the first loop creates each m values for each g and h"
   ],
   "metadata": {}
  },
  {
   "cell_type": "code",
   "execution_count": 2,
   "source": [
    "def get_GClist(degree, totalGC):\n",
    "    \"\"\"Creates a list of Gauss coefficients labels for the dictionary.\n",
    "    Input   : degree\n",
    "    Output  : GClist is the list of coefficients in order\n",
    "    \"\"\"\n",
    "\n",
    "    GClist = ['year']\n",
    "    j      = 0\n",
    "    for index in range(1, degree+1):\n",
    "        degreeLen = 2*index+1\n",
    "        m         = 0\n",
    "\n",
    "        for minutes in range(0, degreeLen):\n",
    "            if minutes == 0:\n",
    "                placement = 'g'     \n",
    "            elif minutes == 1:\n",
    "                placement = 'g'\n",
    "                m += 1\n",
    "            elif (minutes%2) == 0:\n",
    "                placement = 'h'    \n",
    "            else:\n",
    "                placement = 'g'\n",
    "                m += 1\n",
    "            j += 1\n",
    "            \n",
    "            GClist.append(placement+str(index)+'_'+str(m))\n",
    "\n",
    "    assert len(GClist) == totalGC+1\n",
    "    return GClist"
   ],
   "outputs": [],
   "metadata": {}
  },
  {
   "cell_type": "markdown",
   "source": [
    "### get_dictionary: creates the dictionary\n",
    "* The GClist has the labels for the keys that are in the correct order\n",
    "* The dictionary is filled in with the columns from the 2D array of coefficients"
   ],
   "metadata": {}
  },
  {
   "cell_type": "code",
   "execution_count": 3,
   "source": [
    "def get_dictionary(GCtxt, GClist, totalGC):\n",
    "    \"\"\"Creates a dictionary from the GClist keys and fills in the column from the 2D array\n",
    "    Input   : GCtxt is the Gauss coefficients \n",
    "    Output  : GCdict is the Gauss coefficients dictionary\n",
    "    \"\"\"\n",
    "\n",
    "    GCdict = {\"year\" : GCtxt[:,0]}\n",
    "    for index in range(0, totalGC+1):\n",
    "        GCdict[GClist[index]] = GCtxt[: , index]\n",
    "\n",
    "    assert len(GCdict) == totalGC + 1, 'The dictionary is not the size of the number of coefficients'\n",
    "    \n",
    "    if len(np.unique(np.diff(GCdict['year'], n=1))) > 1:\n",
    "        print('Years are not equally spaced')\n",
    "    \n",
    "    # assert len(np.unique(GCdict['year'])) == GCtotal, 'There are duplicate years'\n",
    "    \n",
    "    return GCdict "
   ],
   "outputs": [],
   "metadata": {}
  },
  {
   "cell_type": "markdown",
   "source": [
    "## main def\n",
    "* Input degrees?"
   ],
   "metadata": {}
  },
  {
   "cell_type": "code",
   "execution_count": 4,
   "source": [
    "import numpy as np\n",
    "\n",
    "GCtxt = np.loadtxt('dictTest.txt')\n",
    "years, GCtotal = GCtxt.shape\n",
    "degree = 2\n",
    "\n",
    "def main():\n",
    "    totalGC = get_totalGC(degree)\n",
    "    GClist  = get_GClist(degree, totalGC)\n",
    "    GCdict  = get_dictionary(GCtxt, GClist, totalGC)\n",
    "\n",
    "    return GCdict\n",
    "\n",
    "GC_dict = main()"
   ],
   "outputs": [],
   "metadata": {}
  }
 ],
 "metadata": {
  "kernelspec": {
   "name": "python3",
   "display_name": "Python 3.8.8 64-bit ('base': conda)"
  },
  "language_info": {
   "codemirror_mode": {
    "name": "ipython",
    "version": 3
   },
   "file_extension": ".py",
   "mimetype": "text/x-python",
   "name": "python",
   "nbconvert_exporter": "python",
   "pygments_lexer": "ipython3",
   "version": "3.8.8"
  },
  "interpreter": {
   "hash": "25fdbbd1767db64280408ae592d559f5899253d01d0fd5d5ce502e2a945d34ce"
  }
 },
 "nbformat": 4,
 "nbformat_minor": 5
}