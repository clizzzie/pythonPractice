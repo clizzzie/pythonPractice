{
 "cells": [
  {
   "cell_type": "markdown",
   "source": [
    "# 2D_to_dictionary\n",
    "\n",
    "## Goal:\n",
    "Create a function that takes in a 2D array (example below) and creates a new dictionary with Gauss coefficient as keys.\n",
    "\n",
    "## Test:\n",
    "* Each element in the dictionary needs to be the same size\n",
    "* The number of elements in the dictionary needs to be equal to the total Gauss coefficients plus one (for the year)\n",
    "\n",
    "#### Example: 2-D array of ggf100k\n",
    "year     $ \\quad g_{1}^{0} ... g_{4}^{3}  h_{4}^{3} g_{4}^{4} h_{4}^{4} ...  h_{10}^{10} \\quad $ 121 elements  <br>\n",
    "year+1  $ g_{1}^{0} ... g_{4}^{3} h_{4}^{3} g_{4}^{4} h_{4}^{4} ...  h_{10}^{10} \\quad $ 121 elements <br>\n",
    "\n",
    "#### Example: Dictionary of ggf100k\n",
    "GaussCoeff = ['year', 'g1_0','g1_1', 'h1_1',..., 'h10_10']"
   ],
   "metadata": {}
  },
  {
   "cell_type": "markdown",
   "source": [
    "## main def\n",
    "* Input degrees?"
   ],
   "metadata": {}
  },
  {
   "cell_type": "code",
   "execution_count": 1,
   "source": [
    "import numpy as np\n",
    "\n",
    "GCtxt = np.loadtxt('ggf100k_coeffs_2Darray.txt')\n",
    "degree = 10"
   ],
   "outputs": [],
   "metadata": {}
  },
  {
   "cell_type": "markdown",
   "source": [
    "### Create a dictionary or list of Gauss coefficients from degree and order\n",
    "* Matrix needs to include year as columns\n",
    "* Coefficients need to be a row with associated year\n",
    "* Put example of format"
   ],
   "metadata": {}
  },
  {
   "cell_type": "markdown",
   "source": [
    "### get_totalGC: Calculate the total number of coefficients per year\n",
    "* Each degree is calculated with $2l+1$\n",
    "* The total number of Gauss coefficients is the sum of all degrees and orders"
   ],
   "metadata": {}
  },
  {
   "cell_type": "code",
   "execution_count": 3,
   "source": [
    "# Calculate the number of coefficients per year\n",
    "def get_totalGC(degree):\n",
    "    \"\"\"Calculates the total number of Gauss coefficients. The total number of coefficients\n",
    "    is the sum of all degree and orders with 2l+1\n",
    "    Input   : degree is the degree and order\n",
    "    Output  : totalGC is the total number of Gauss coefficients \n",
    "    \"\"\"\n",
    "    totalGC = 0\n",
    "    for index in range(1,degree+1):\n",
    "        totalGC += 2*index+1\n",
    "    \n",
    "    return totalGC"
   ],
   "outputs": [],
   "metadata": {}
  },
  {
   "cell_type": "code",
   "execution_count": 3,
   "source": [
    "# Create dictionary of Gauss coefficients, eventually make a def/ function\n",
    "\n",
    "GClist=['year']\n",
    "j=0\n",
    "for index in range(1, degree+1):     # index is degree, l\n",
    "    degreeLen = 2*index+1\n",
    "    m = 0\n",
    "    for minutes in range(0, degreeLen):\n",
    "        if minutes==0:\n",
    "            placement= 'g'     \n",
    "        elif minutes==1:\n",
    "            placement= 'g'\n",
    "            m+=1\n",
    "        elif ((minutes%2)==0):\n",
    "            placement = 'h'    \n",
    "        else:\n",
    "            placement = 'g'\n",
    "            m+=1\n",
    "        j+=1\n",
    "        # GC[placement+str(index)+'_'+str(m)] = GCtxt[:,j]\n",
    "        GClist.append(placement+str(index)+'_'+str(m))\n",
    "\n",
    "assert len(GClist)==totalGC+1\n",
    "\n",
    "# Create dictionary\n",
    "\n",
    "GC = {\n",
    "    \"year\" : GCtxt[:,0]\n",
    "}\n",
    "for index in range(0,totalGC+1):\n",
    "    GC[GClist[index]] = GCtxt[:,index]\n",
    "assert len(GC) == totalGC+1\n",
    "assert sum(np.diff(GC['year'], n=2)) == 0, 'The years are not equally spaced'\n"
   ],
   "outputs": [],
   "metadata": {}
  },
  {
   "cell_type": "code",
   "execution_count": 4,
   "source": [
    "# Within the dictionary, find the degree, l, values needed for\n",
    "# spatial power variability equation, put another assert for l that might be out of bounds\n",
    "\n",
    "def get_l_from_GClist(GClist, l):\n",
    "    \"\"\"Returns a list with each element having the coefficient as a string\n",
    "    input: GClist should be a list of all the coefficient representing the\n",
    "    location in a matrix format.\n",
    "    l should be the degree wanting\n",
    "    \"\"\"\n",
    "    \n",
    "    lforR=[]\n",
    "    for index in GClist:\n",
    "        underScore = index.find('_')\n",
    "        if index[1:underScore] == str(l):        \n",
    "            lforR.append(index)    \n",
    "    \n",
    "    assert len(lforR) == (2*l+1), \"The length of the list is the wrong size\"\n",
    "    return lforR"
   ],
   "outputs": [],
   "metadata": {}
  },
  {
   "cell_type": "code",
   "execution_count": 5,
   "source": [
    "R_1list = get_l_from_GClist(GClist, 1)\n",
    "R_2list = get_l_from_GClist(GClist, 2)\n",
    "R_3list = get_l_from_GClist(GClist, 3)\n",
    "R_4list = get_l_from_GClist(GClist, 4)\n",
    "R_5list = get_l_from_GClist(GClist, 5)"
   ],
   "outputs": [],
   "metadata": {}
  },
  {
   "cell_type": "code",
   "execution_count": 6,
   "source": [
    "# Calculate the R_1, make another function/def\n",
    "l = 1\n",
    "R_1 = np.zeros(100041)\n",
    "for index in R_1list:\n",
    "    R_1 = R_1+np.square(GC[index])\n",
    "    # can put assert\n",
    "R_1 = (l+1)*R_1\n",
    "R1 = np.array([R_1])\n",
    "R1 = R1.T\n",
    "\n",
    "l = 2\n",
    "R_2 = np.zeros(100041)\n",
    "for index in R_2list:\n",
    "    R_2 = R_2+np.square(GC[index])\n",
    "R_2 = (l+1)*R_2\n",
    "R2 = np.array([R_2])\n",
    "R2 = R2.T\n",
    "\n",
    "l = 3\n",
    "R_3 = np.zeros(100041)\n",
    "for index in R_3list:\n",
    "    R_3 = R_3+np.square(GC[index])\n",
    "R_3 = (l+1)*R_3\n",
    "R3 = np.array([R_3])\n",
    "R3 = R3.T\n",
    "\n",
    "l = 4\n",
    "R_4 = np.zeros(100041)\n",
    "for index in R_4list:\n",
    "    R_4 = R_4+np.square(GC[index])\n",
    "R_4 = (l+1)*R_4\n",
    "R4 = np.array([R_4])\n",
    "R4 = R4.T\n",
    "\n",
    "l = 5\n",
    "R_5 = np.zeros(100041)\n",
    "for index in R_5list:\n",
    "    R_5 = R_5+np.square(GC[index])\n",
    "R_5 = (l+1)*R_5\n",
    "R5 = np.array([R_5])\n",
    "R5 = R5.T\n"
   ],
   "outputs": [],
   "metadata": {}
  },
  {
   "cell_type": "code",
   "execution_count": 8,
   "source": [
    "print(R5.shape)\n",
    "print(R_2.shape)"
   ],
   "outputs": [
    {
     "output_type": "stream",
     "name": "stdout",
     "text": [
      "(100041, 1)\n",
      "(100041,)\n"
     ]
    }
   ],
   "metadata": {}
  },
  {
   "cell_type": "code",
   "execution_count": 10,
   "source": [
    "\n",
    "np.savetxt('R1_ggf100k.txt', R1)\n",
    "np.savetxt('R2_ggf100k.txt', R2)\n",
    "np.savetxt('R3_ggf100k.txt', R3)\n",
    "np.savetxt('R4_ggf100k.txt', R4)\n",
    "np.savetxt('R_5ggf100k.txt', R5)"
   ],
   "outputs": [],
   "metadata": {}
  }
 ],
 "metadata": {
  "kernelspec": {
   "name": "python3",
   "display_name": "Python 3.8.8 64-bit ('base': conda)"
  },
  "language_info": {
   "codemirror_mode": {
    "name": "ipython",
    "version": 3
   },
   "file_extension": ".py",
   "mimetype": "text/x-python",
   "name": "python",
   "nbconvert_exporter": "python",
   "pygments_lexer": "ipython3",
   "version": "3.8.8"
  },
  "interpreter": {
   "hash": "25fdbbd1767db64280408ae592d559f5899253d01d0fd5d5ce502e2a945d34ce"
  }
 },
 "nbformat": 4,
 "nbformat_minor": 5
}